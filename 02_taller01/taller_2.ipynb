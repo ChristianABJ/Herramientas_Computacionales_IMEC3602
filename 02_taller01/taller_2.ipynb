{
  "cells": [
    {
      "cell_type": "markdown",
      "source": [
        "#TALLER 1-Análisis de la metodología para la verificación y construcción de series históricas para el cálculo de la ENFICC en plantas solares fotovoltaicas.\n",
        "\na continuacion se presentan las funciones generadas como parte de los requerimientos del taller 1 y que fueron utilizadas posteriormente para realizar el analisis de la metodologia planteada "
      ],
      "metadata": {}
    },
    {
      "cell_type": "code",
      "source": [
        "import os\n",
        "import pandas as pd\n",
        "from scipy import stats\n",
        "%pylab inline\n"
      ],
      "outputs": [
        {
          "output_type": "stream",
          "name": "stdout",
          "text": [
            "Populating the interactive namespace from numpy and matplotlib\n"
          ]
        }
      ],
      "execution_count": 130,
      "metadata": {
        "collapsed": false,
        "outputHidden": false,
        "inputHidden": false
      }
    },
    {
      "cell_type": "code",
      "source": [
        "##codigo usado para cargar los datos \n",
        "\n",
        "os.chdir('C:\\\\Users\\\\Christian\\\\Documents\\\\GitHub\\\\Herramientas_Computacionales_IMEC3602\\\\02_taller01')\n",
        "base_dir = os.path.join( '.','data')\n",
        "output_dir = os.path.join( '.','output')\n",
        "\n",
        "ciudad1 = 'Sucre'\n",
        "ciudad2 = 'Medellin'\n",
        "ciudad3 = 'Uribia'\n",
        "ciudad4 = 'Barranquilla'\n",
        "ciudad5 = 'Cali'\n",
        "ciudad6 = 'Carmendebolivar'\n",
        "ciudad7 = 'SantaMarta'\n",
        "ciudad8 = 'Valledupar'\n",
        "\n",
        "fuente1 = 'IDEAM'\n",
        "fuente2 = 'NREL'\n",
        "\n\n",
        "serie_csv = os.path.join(base_dir,ciudad1,fuente1+'.csv')\n",
        "serie_csv2 = os.path.join(base_dir,ciudad1,fuente2+'.csv')\n",
        "serie_csv3 = os.path.join(base_dir,ciudad2,fuente1+'.csv')\n",
        "serie_csv4 = os.path.join(base_dir,ciudad2,fuente2+'.csv')\n",
        "serie_csv5 = os.path.join(base_dir,ciudad3,fuente1+'.csv')\n",
        "serie_csv6 = os.path.join(base_dir,ciudad3,fuente2+'.csv')\n",
        "serie_csv7 = os.path.join(base_dir,ciudad4,fuente1+'.csv')\n",
        "serie_csv8 = os.path.join(base_dir,ciudad4,fuente2+'.csv')\n",
        "serie_csv9 = os.path.join(base_dir,ciudad5,fuente1+'.csv')\n",
        "serie_csv10 = os.path.join(base_dir,ciudad5,fuente2+'.csv')\n",
        "serie_csv11 = os.path.join(base_dir,ciudad6,fuente1+'.csv')\n",
        "serie_csv12 = os.path.join(base_dir,ciudad6,fuente2+'.csv')\n",
        "serie_csv13 = os.path.join(base_dir,ciudad7,fuente1+'.csv')\n",
        "serie_csv14 = os.path.join(base_dir,ciudad7,fuente2+'.csv')\n",
        "serie_csv15 = os.path.join(base_dir,ciudad8,fuente1+'.csv')\n",
        "serie_csv16 = os.path.join(base_dir,ciudad8,fuente2+'.csv')\n",
        "\n\n",
        "serie_in= pd.read_csv(serie_csv, sep = ';',encoding='latin-1')\n",
        "serie_in2= pd.read_csv(serie_csv2, sep = ';',encoding='latin-1')\n",
        "serie_in3= pd.read_csv(serie_csv3, sep = ';',encoding='latin-1')\n",
        "serie_in4= pd.read_csv(serie_csv4, sep = ';',encoding='latin-1')\n",
        "serie_in5= pd.read_csv(serie_csv5, sep = ';',encoding='latin-1')\n",
        "serie_in6= pd.read_csv(serie_csv6, sep = ';',encoding='latin-1')\n",
        "serie_in7= pd.read_csv(serie_csv7, sep = ';',encoding='latin-1')\n",
        "serie_in8= pd.read_csv(serie_csv8, sep = ';',encoding='latin-1')\n",
        "serie_in9= pd.read_csv(serie_csv9, sep = ';',encoding='latin-1')\n",
        "serie_in10= pd.read_csv(serie_csv10, sep = ';',encoding='latin-1')\n",
        "serie_in11= pd.read_csv(serie_csv11, sep = ';',encoding='latin-1')\n",
        "serie_in12= pd.read_csv(serie_csv12, sep = ';',encoding='latin-1')\n",
        "serie_in13= pd.read_csv(serie_csv13, sep = ';',encoding='latin-1')\n",
        "serie_in14= pd.read_csv(serie_csv14, sep = ';',encoding='latin-1')\n",
        "serie_in15= pd.read_csv(serie_csv15, sep = ';',encoding='latin-1')\n",
        "serie_in16= pd.read_csv(serie_csv16, sep = ';',encoding='latin-1')\n",
        "\n\n",
        "rang_anio=numpy.arange(2006,2016)\n",
        "rang_anio2=numpy.arange(2010,2016)\n",
        "serie_in=serie_in[serie_in['AÑO'].isin(rang_anio)]\n",
        "serie_in2=serie_in2[serie_in2['AÑO'].isin(rang_anio)]\n",
        "serie_in3=serie_in3[serie_in3['AÑO'].isin(rang_anio)]\n",
        "serie_in4=serie_in4[serie_in4['AÑO'].isin(rang_anio)]\n",
        "serie_in5=serie_in5[serie_in5['AÑO'].isin(rang_anio)]\n",
        "serie_in6=serie_in6[serie_in6['AÑO'].isin(rang_anio)]\n",
        "serie_in7=serie_in7[serie_in7['AÑO'].isin(rang_anio2)]\n",
        "serie_in8=serie_in8[serie_in8['AÑO'].isin(rang_anio2)]\n",
        "serie_in9=serie_in9[serie_in9['AÑO'].isin(rang_anio2)]\n",
        "serie_in10=serie_in10[serie_in10['AÑO'].isin(rang_anio2)]\n",
        "serie_in11=serie_in11[serie_in11['AÑO'].isin(rang_anio2)]\n",
        "serie_in12=serie_in12[serie_in12['AÑO'].isin(rang_anio2)]\n",
        "serie_in13=serie_in13[serie_in13['AÑO'].isin(rang_anio2)]\n",
        "serie_in14=serie_in14[serie_in14['AÑO'].isin(rang_anio2)]\n",
        "serie_in15=serie_in15[serie_in15['AÑO'].isin(rang_anio2)]\n",
        "serie_in16=serie_in16[serie_in16['AÑO'].isin(rang_anio2)]"
      ],
      "outputs": [],
      "execution_count": 131,
      "metadata": {
        "collapsed": false,
        "outputHidden": false,
        "inputHidden": false
      }
    },
    {
      "cell_type": "code",
      "source": [
        "def ghi_mensual(serie_horaria):\n",
        "    agnos = sorted(serie_horaria['AÑO'].unique())\n",
        "    ghi_df = pd.DataFrame(columns=[\"AÑO\", \"MES\", \"DIAS\", \"GHImes\"])\n",
        "    for agno in agnos:\n",
        "        for mes in range(1,13):\n",
        "            nombre_energia = list(serie_horaria)[-1]\n",
        "            dias = sorted(serie_horaria[(serie_horaria['AÑO'] == agno) & (serie_horaria['MES'] == mes)][\"DIA\"].unique())\n",
        "            ghi_mes = serie_horaria.loc[((serie_horaria[\"AÑO\"] == agno)& (serie_horaria[\"MES\"] == mes)),nombre_energia].sum()/1000\n",
        "            ghi_dict = {\"AÑO\":agno, \"MES\":mes, \"DIAS\":dias[-1],\"GHImes\":ghi_mes}\n",
        "            ghi_df = ghi_df.append(ghi_dict, ignore_index=True)\n",
        "    return ghi_df\n",
        "\n\n",
        "def ghi_dia(serie_ghi_mensual):\n",
        "    agnos = sorted(serie_ghi_mensual['AÑO'].unique())\n",
        "    ghi_df = pd.DataFrame(columns=[\"AÑO\", \"MES\", \"GHIdiario\"])\n",
        "    for agno in agnos:\n",
        "        for mes in range(1,13):\n",
        "            dias = serie_ghi_mensual.loc[((serie_ghi_mensual[\"AÑO\"] == agno) & (serie_ghi_mensual[\"MES\"] == mes)),\"DIAS\"].item()\n",
        "            ghi_diario = serie_ghi_mensual.loc[((serie_ghi_mensual[\"AÑO\"] == agno)& (serie_ghi_mensual[\"MES\"] == mes)),\"GHImes\"].item()/dias\n",
        "            ghi_dict = {\"AÑO\":agno, \"MES\":mes, \"GHIdiario\":ghi_diario}\n",
        "            ghi_df = ghi_df.append(ghi_dict, ignore_index=True)\n",
        "    return ghi_df"
      ],
      "outputs": [],
      "execution_count": 132,
      "metadata": {
        "collapsed": false,
        "outputHidden": false,
        "inputHidden": false
      }
    },
    {
      "cell_type": "markdown",
      "source": [
        "para la realizacion de las funciones requeridas en el punto 1 y 2 es necesario de cierta manera organizar la ENFICC de menor a mayor por lo que antes de generar el codigo de estas funciones se realiza una funcion de apoyo que realice este procedimiento y que pueda ser llamada en ambos casos"
      ],
      "metadata": {}
    },
    {
      "cell_type": "code",
      "source": [
        "def func_sort (serie_int):#funcion para ordenar la enfic de mayor a menor \n",
        " mensual=ghi_mensual(serie_int)#utilza la funcion ghi_mensual para encontrar el promedio mensual \n",
        " diario=ghi_dia(mensual)#utilia la funcion ghi_dia para encontrar el promedio diario \n",
        " enficc_ord = sorted(diario[\"GHIdiario\"])#ordena los valores de promedio diario de menor a mayor en una lista\n",
        " return enficc_ord"
      ],
      "outputs": [],
      "execution_count": 133,
      "metadata": {
        "collapsed": false,
        "outputHidden": false,
        "inputHidden": false
      }
    },
    {
      "cell_type": "markdown",
      "source": [
        "##Punto 1\n",
        "para generar la funcion del punto 1 se utiliza la funcion func_sort antes generada para organizar la ENFICC de la serie de datos que ingresa por parametro. despues se utiliza el comando percentile para encontrar la ENFICC que es superada por el 99% de los valores."
      ],
      "metadata": {}
    },
    {
      "cell_type": "code",
      "source": [
        "def func_punto_1 (serie_int):\n",
        " lista_enficc=func_sort(serie_int)#se organiza la energia utilizando la funcion func_sort\n",
        " percentil=numpy.percentile(lista_enficc,1)#se encuentra el valor dado por el percentil 1\n",
        " resp=numpy.around(percentil, decimals=2)#establece un valor de dos cifras cignificativas para el percentil\n",
        " return resp"
      ],
      "outputs": [],
      "execution_count": 134,
      "metadata": {
        "collapsed": false,
        "outputHidden": false,
        "inputHidden": false
      }
    },
    {
      "cell_type": "markdown",
      "source": [
        "##Punto 2\n",
        "Para generar la funcion del segundo punto nuevamente se utiliza func_sort para organizar la ENFICC de cada una de las series de datos que ingresen. Dado que no se especifica una cantidad exacta de series de datos como entrada a la funcion se utiliza un parametro de entrada abierto que permite ingresar la cantidad de series deseadas, para luego usando un if graficar la ENFICC de cada una de ellas"
      ],
      "metadata": {}
    },
    {
      "cell_type": "code",
      "source": [
        "def func_punto_2(*arg,nombres,nombsalida,nombgraf):\n",
        " rango=numpy.arange(0,len(arg))#se determina el numero de series a graficar\n",
        " serie_base=func_sort(arg[0])\n",
        " valor_base=serie_base[0]\n",
        " for i in rango:#se genera un if que recorra cada una de las funciones\n",
        "  datos=func_sort (arg[i])#se define datos como la ENFICC organizada de la serie numero i ingresada como parametro\n",
        "  numdatos = range(len(datos))#se determina el numero de datos que se tienen para la ENFICC de la serie numero i\n",
        "  pylab.plot(numdatos,datos/valor_base,label=(nombres[i]))# se grafica los datos de ENFICC contra el numero de datos, se le asigan el label #i\n",
        " pylab.legend(loc='upper left')  \n",
        " pylab.xlabel(\"Datos\")\n",
        " pylab.ylabel(\"Energía/Energía Base IDEAM\")\n",
        " plt.title(nombgraf)\n",
        " plt.grid()\n",
        " pylab.savefig(os.path.join(output_dir,nombsalida), dpi=600)\n",
        " close()"
      ],
      "outputs": [],
      "execution_count": 135,
      "metadata": {
        "collapsed": false,
        "outputHidden": false,
        "inputHidden": false
      }
    },
    {
      "cell_type": "markdown",
      "source": [
        "Para probar la funcion a realizar en el punto 3 y como una herramienta util en el analisis a realizar en el punto 5 se genera una funcion que extraiga de una serie de datos los datos para un año especifico y de una longitud en meses dada, esta fucnion se presenta a continuacion"
      ],
      "metadata": {}
    },
    {
      "cell_type": "code",
      "source": [
        "def func_selec(df,meses,anio):  \n",
        " if meses>12:\n",
        "   anio_2=(anio+1)\n",
        "   meses_1=12\n",
        "   meses_2=meses-12\n",
        "   range_meses2=numpy.arange(1,(meses_2+1))\n",
        "   serie_selec2=df.loc[df['MES'].isin(range_meses2) & (df['AÑO'] == anio_2)]\n",
        " else:\n",
        "  meses_1=meses\n",
        " \n",
        " rang_meses=numpy.arange(1,(meses_1+1))# se genera un arreglo con los numeros de meses desde el mes 1 hasta el numero de mes parametro mas 1\n",
        " serie_selec=df.loc[df['MES'].isin(rang_meses) & (df['AÑO'] == anio)]#se seleccionan los datos datos que cumplen con las condiciones\n",
        " \n",
        " if meses>12:\n",
        "  serie_selec=pd.concat([serie_selec,serie_selec2])\n",
        " return (serie_selec)"
      ],
      "outputs": [],
      "execution_count": 136,
      "metadata": {
        "collapsed": false,
        "outputHidden": false,
        "inputHidden": false
      }
    },
    {
      "cell_type": "markdown",
      "source": [
        "##Punto 3\n",
        "para realizar el ajuste de la serie de largo plazo la funcion comienza por establecer a que año y a que meses corresponde la serie de datos de corto plazo medida en el sitio y usando la funcion func_selec selecciona los datos que corresponden a la misma temporalidad de la serie de largo plazo a ser ajustada.\n",
        "Una vez realizado el procedmiento anterior la funcion calcula las varianzas y los valores medios de las series de referencia y de objetivo para luego utilizando las ecuaciones establecidas en la seccion 3.1.4 del documento realizar el ajuste de la serie de datos de largo plazo."
      ],
      "metadata": {}
    },
    {
      "cell_type": "code",
      "source": [
        "def func_punto_3(serie_ref,serie_obj,mes,anio):\n",
        " \n",
        " serie_ref2=func_selec(serie_ref,mes,anio)#se seleccionan los datos de la serie a ajustar para la misma temporalidad \n",
        " lista_ref=np.asarray(list(serie_ref.T.iloc[-1]))#los datos de la serie de referencia se convierte a una lista\n",
        " lista_ref2 =np.asarray(list(serie_ref2.T.iloc[-1]))#los datos de la serie de referencia en misma temporalidad se convierte a una lista\n",
        " lista_obj = np.asarray(list(serie_obj.T.iloc[-1]))#los datos de energia de la serie de objetivo se convierte a una lista\n",
        " sigma_obj=np.std(lista_obj)#desviacion estandar de la lista objetivo\n",
        " sigma_ref2=np.std(lista_ref2)#desviacion estandar de la lista referencia\n",
        " med_obj=np.average(lista_obj)#media de la lista objetivo\n",
        " med_ref2=np.average(lista_ref2)#media de la lista referencia\n",
        " c=med_obj-(med_ref2*sigma_obj/sigma_ref2)#calculo de parametro c\n",
        " m=sigma_obj/sigma_ref2#calculo parametro m\n",
        " list_corr=((m*lista_ref)+c)#se calculan los valores corregidos \n",
        " anios=list(serie_ref.T.iloc[0])\n",
        " meses=list(serie_ref.T.iloc[1])\n",
        " dias=list(serie_ref.T.iloc[2])\n",
        " horas=list(serie_ref.T.iloc[3])\n",
        " data_corr= pd.DataFrame(columns=[\"AÑO\", \"MES\", \"DIA\", \"HORA\",\"CORREGIDO\"])\n",
        " data_corr[\"AÑO\"] = anios\n",
        " data_corr[\"MES\"] = meses\n",
        " data_corr[\"DIA\"] = dias\n",
        " data_corr[\"HORA\"] = horas\n",
        " data_corr[\"CORREGIDO\"] = list_corr\n",
        " return (data_corr)"
      ],
      "outputs": [],
      "execution_count": 137,
      "metadata": {
        "collapsed": false,
        "outputHidden": false,
        "inputHidden": false
      }
    },
    {
      "cell_type": "markdown",
      "source": [
        "##Punto 4\n",
        "las funciones de error se generan utilizando las ecuaciones presentadas en la seccion 3.1.2 del documento\n",
        "\n###Funcion para calculo de la RMSEn"
      ],
      "metadata": {}
    },
    {
      "cell_type": "code",
      "source": [
        "def rmsn(obs,mod):\n",
        "  lista_obs=np.asarray(list(obs.T.iloc[-1]))#se genera un arreglo con los valores de energia de la serie obs\n",
        "  lista_mod=np.asarray(list(mod.T.iloc[-1]))#se genera un arreglo con los valores de energia de la rerie mod\n",
        "  n=len(lista_obs)#se determina el numero total de datos\n",
        "  rest=lista_obs-lista_mod#se realiza el procesamiento matematico establecido\n",
        "  prom=np.sqrt((np.sum(rest**2))/n)\n",
        "  obs_max=np.amax(lista_obs)\n",
        "  resp=100*prom/obs_max\n",
        "  return(resp)"
      ],
      "outputs": [],
      "execution_count": 138,
      "metadata": {
        "collapsed": false,
        "outputHidden": false,
        "inputHidden": false
      }
    },
    {
      "cell_type": "markdown",
      "source": [
        "###Funcion para calculo de la MBE"
      ],
      "metadata": {}
    },
    {
      "cell_type": "code",
      "source": [
        "def mbe(obs,mod):\n",
        "  lista_obs=np.asarray(list(obs.T.iloc[-1]))#se genera un arreglo con los valores de energia de la serie obs\n",
        "  lista_mod=np.asarray(list(mod.T.iloc[-1]))#se genera un arreglo con los valores de energia de la rerie mod\n",
        "  rest=np.sum(lista_obs-lista_mod)#se realiza el procesamiento matematico establecido\n",
        "  tot=np.sum(lista_obs)\n",
        "  resp=100*rest/tot\n",
        "  return(resp)"
      ],
      "outputs": [],
      "execution_count": 139,
      "metadata": {
        "collapsed": false,
        "outputHidden": false,
        "inputHidden": false
      }
    },
    {
      "cell_type": "markdown",
      "source": [
        "###Funcion para calculo de la \"KSI\""
      ],
      "metadata": {}
    },
    {
      "cell_type": "code",
      "source": [
        "def ksi(obs,mod):\n",
        " obs1=func_sort(obs)\n",
        " mod1=func_sort(mod)\n",
        " ser_obs=obs1/obs1[0]\n",
        " ser_mod=mod1/obs1[0]\n",
        " dat=stats.ks_2samp(ser_obs,ser_mod)\n",
        " resp=dat[-1]\n",
        " return(resp)"
      ],
      "outputs": [],
      "execution_count": 140,
      "metadata": {
        "collapsed": false,
        "outputHidden": false,
        "inputHidden": false
      }
    },
    {
      "cell_type": "code",
      "source": [
        "num_meses=24##codigo usado para generar graficas del analisis \n",
        "meses=linspace(1,num_meses,num_meses)\n",
        "meses=meses.astype(int)\n",
        "ser_rmsn1=np.zeros(num_meses)\n",
        "ser_mbe1=np.zeros(num_meses)\n",
        "ser_rmsn2=np.zeros(num_meses)\n",
        "ser_mbe2=np.zeros(num_meses)\n",
        "ser_rmsn3=np.zeros(num_meses)\n",
        "ser_mbe3=np.zeros(num_meses)\n",
        "for i in meses:\n",
        " obje1=func_selec(serie_in,i,2012)\n",
        " obje2=func_selec(serie_in3,i,2012)\n",
        " obje3=func_selec(serie_in5,i,2012)\n",
        " corregida1=func_punto_3(serie_in2,obje1,i,2012)\n",
        " corregida2=func_punto_3(serie_in4,obje2,i,2012)\n",
        " corregida3=func_punto_3(serie_in6,obje3,i,2012)\n",
        " ser_rmsn1[i-1]=rmsn(corregida1,serie_in)\n",
        " ser_mbe1[i-1]=mbe(corregida1,serie_in)\n",
        " ser_rmsn2[i-1]=rmsn(corregida2,serie_in3)\n",
        " ser_mbe2[i-1]=mbe(corregida2,serie_in3)\n",
        " ser_rmsn3[i-1]=rmsn(corregida3,serie_in5)\n",
        " ser_mbe3[i-1]=mbe(corregida3,serie_in5)\n",
        " "
      ],
      "outputs": [],
      "execution_count": 141,
      "metadata": {}
    },
    {
      "cell_type": "code",
      "source": [
        "num_anios=9##codigo usado para generar graficas del analisis \n",
        "anios=linspace(2006,2014,num_anios)\n",
        "anios=anios.astype(int)\n",
        "anio_rmsn1=np.zeros(num_anios)\n",
        "anio_mbe1=np.zeros(num_anios)\n",
        "anio_rmsn2=np.zeros(num_anios)\n",
        "anio_mbe2=np.zeros(num_anios)\n",
        "anio_rmsn3=np.zeros(num_anios)\n",
        "anio_mbe3=np.zeros(num_anios)\n",
        "for i in anios:\n",
        " anio_obje1=func_selec(serie_in,20,i)\n",
        " anio_obje2=func_selec(serie_in3,20,i)\n",
        " anio_obje3=func_selec(serie_in5,20,i)\n",
        " anio_correg1=func_punto_3(serie_in2,anio_obje1,20,i)\n",
        " anio_correg2=func_punto_3(serie_in4,anio_obje2,20,i)\n",
        " anio_correg3=func_punto_3(serie_in6,anio_obje3,29,i)\n",
        " anio_rmsn1[i-2006]=rmsn(anio_correg1,serie_in)\n",
        " anio_mbe1[i-2006]=mbe(anio_correg1,serie_in)\n",
        " anio_rmsn2[i-2006]=rmsn(anio_correg2,serie_in3)\n",
        " anio_mbe2[i-2006]=mbe(anio_correg2,serie_in3)\n",
        " anio_rmsn3[i-2006]=rmsn(anio_correg3,serie_in5)\n",
        " anio_mbe3[i-2006]=mbe(anio_correg3,serie_in5)"
      ],
      "outputs": [],
      "execution_count": 142,
      "metadata": {
        "collapsed": false,
        "outputHidden": false,
        "inputHidden": false
      }
    },
    {
      "cell_type": "code",
      "source": [
        "pylab.plot(ser_rmsn1,label='Sucre')##codigo usado para generar graficas del analisis \n",
        "pylab.plot(ser_rmsn2,label='Medellin')\n",
        "pylab.plot(ser_rmsn3,label='Uribia')\n",
        "pylab.legend(loc='center right')  \n",
        "plt.title('Grafica 1. error RMSEn vs longitud de serie objetivo')\n",
        "pylab.xlabel(\"Meses de la serie objetivo\")\n",
        "pylab.ylabel(\"Error RMSEn [%]\")\n",
        "plt.grid()\n",
        "pylab.savefig(os.path.join(output_dir,'RMSN.png'), dpi=600)\n",
        "plt.close()\n",
        "\n",
        "pylab.plot(ser_mbe1,label='Sucre')\n",
        "pylab.plot(ser_mbe2,label='Medellin')\n",
        "pylab.plot(ser_mbe3,label='Uribia')\n",
        "pylab.legend(loc='center right')  \n",
        "pylab.xlabel(\"Meses de la serie objetivo\")\n",
        "pylab.ylabel(\"Error MBE [%]\")\n",
        "plt.title('Grafica 2. error MBEn vs longitud de serie objetivo')\n",
        "plt.grid()\n",
        "pylab.savefig(os.path.join(output_dir,'MBE.png'), dpi=600)\n",
        "plt.close()\n",
        "\n",
        "pylab.plot(anios,anio_rmsn1,label='Sucre')\n",
        "pylab.plot(anios,anio_rmsn2,label='Medellin')\n",
        "pylab.plot(anios,anio_rmsn3,label='Uribia')\n",
        "pylab.legend(loc='center right')  \n",
        "pylab.xlabel(\"Año de la serie objetivo\")\n",
        "pylab.ylabel(\"Error RMSEn [%]\")\n",
        "plt.title('Grafica 3. error RMSEn vs año de inicio de la serie objetivo')\n",
        "plt.grid()\n",
        "pylab.savefig(os.path.join(output_dir,'anioRMSN.png'), dpi=600)\n",
        "plt.close()\n",
        "\n",
        "pylab.plot(anios,anio_mbe1,label='Sucre')\n",
        "pylab.plot(anios,anio_mbe2,label='Medellin')\n",
        "pylab.plot(anios,anio_mbe3,label='Uribia')\n",
        "pylab.legend(loc='center right')  \n",
        "pylab.xlabel(\"Año de la serie objetivo\")\n",
        "plt.title('Grafica 4. error MBE vs año de inicio de la serie objetivo')\n",
        "pylab.ylabel(\"Error MBE [%]\")\n",
        "plt.grid()\n",
        "pylab.savefig(os.path.join(output_dir,'anioMBE.png'), dpi=600)\n",
        "plt.close()\n",
        "\n"
      ],
      "outputs": [],
      "execution_count": 143,
      "metadata": {
        "collapsed": false,
        "outputHidden": false,
        "inputHidden": false
      }
    },
    {
      "cell_type": "code",
      "source": [
        "anobj=func_selec(serie_in,20,2011)##codigo usado para generar graficas del analisis \n",
        "ancorr=func_punto_3(serie_in2,anobj,20,2011)\n",
        "li1=ghi_dia(ghi_mensual(serie_in))\n",
        "li2=ghi_dia(ghi_mensual(ancorr))\n",
        "li3=ghi_dia(ghi_mensual(serie_in2))\n",
        "dat1=list(li1.T.iloc[-1])\n",
        "dat2=list(li2.T.iloc[-1])\n",
        "dat3=list(li3.T.iloc[-1])\n",
        "\n",
        "pylab.plot(dat1,label='objetivo')\n",
        "pylab.plot(dat2,label='corregido')\n",
        "pylab.plot(dat3,label='satelital')\n",
        "pylab.legend(loc='center right')  \n",
        "pylab.xlabel(\"Meses\")\n",
        "pylab.ylabel(\"energia diaria mensual promedio[kwh/dia]\")\n",
        "plt.title('Grafica 5. promedio de energia diaria mensual para Sucre ')\n",
        "plt.grid()\n",
        "pylab.savefig(os.path.join(output_dir,'serie2011.png'), dpi=600)\n",
        "plt.close()"
      ],
      "outputs": [],
      "execution_count": 144,
      "metadata": {
        "collapsed": false,
        "outputHidden": false,
        "inputHidden": false
      }
    },
    {
      "cell_type": "code",
      "source": [
        "ob1=func_selec(serie_in,20,2013)##codigo usado para generar graficas del analisis \n",
        "ob2=func_selec(serie_in3,20,2013)\n",
        "ob3=func_selec(serie_in5,20,2013)\n",
        "ob4=func_selec(serie_in7,20,2013)\n",
        "ob5=func_selec(serie_in9,20,2013)\n",
        "ob6=func_selec(serie_in11,20,2013)\n",
        "ob7=func_selec(serie_in13,20,2013)\n",
        "ob8=func_selec(serie_in15,20,2013)\n",
        "\n",
        "corre1=func_punto_3(serie_in2,ob1,20,2013)\n",
        "corre2=func_punto_3(serie_in4,ob2,20,2013)\n",
        "corre3=func_punto_3(serie_in6,ob3,20,2013)\n",
        "corre4=func_punto_3(serie_in8,ob4,20,2013)\n",
        "corre5=func_punto_3(serie_in10,ob5,20,2013)\n",
        "corre6=func_punto_3(serie_in12,ob6,20,2013)\n",
        "corre7=func_punto_3(serie_in14,ob7,20,2013)\n",
        "corre8=func_punto_3(serie_in16,ob8,20,2013)\n",
        "\n",
        "rmse_ser1=np.zeros(4)\n",
        "mbe_ser1=np.zeros(4)\n",
        "rmse_ser2=np.zeros(4)\n",
        "mbe_ser2=np.zeros(4)\n",
        "\n",
        "rmse_ser1[0]=rmsn(corre1,serie_in)\n",
        "rmse_ser1[1]=rmsn(corre2,serie_in3)\n",
        "rmse_ser1[2]=rmsn(corre3,serie_in5)\n",
        "rmse_ser1[3]=rmsn(corre4,serie_in7)\n",
        "rmse_ser2[0]=rmsn(corre5,serie_in9)\n",
        "rmse_ser2[1]=rmsn(corre6,serie_in11)\n",
        "rmse_ser2[2]=rmsn(corre7,serie_in13)\n",
        "rmse_ser2[3]=rmsn(corre8,serie_in15)\n",
        "\n",
        "mbe_ser1[0]=mbe(corre1,serie_in)\n",
        "mbe_ser1[1]=mbe(corre2,serie_in3)\n",
        "mbe_ser1[2]=mbe(corre3,serie_in5)\n",
        "mbe_ser1[3]=mbe(corre4,serie_in7)\n",
        "mbe_ser2[0]=mbe(corre5,serie_in9)\n",
        "mbe_ser2[1]=mbe(corre6,serie_in11)\n",
        "mbe_ser2[2]=mbe(corre7,serie_in13)\n",
        "mbe_ser2[3]=mbe(corre8,serie_in15)\n",
        "\n",
        "enficre1=np.zeros(4)\n",
        "enficaprox1=np.zeros(4)\n",
        "enficre2=np.zeros(4)\n",
        "enficaprox2=np.zeros(4)\n",
        "\n",
        "enficre1[0]=func_punto_1(serie_in)\n",
        "enficre1[1]=func_punto_1(serie_in3)\n",
        "enficre1[2]=func_punto_1(serie_in5)\n",
        "enficre1[3]=func_punto_1(serie_in7)\n",
        "enficre2[0]=func_punto_1(serie_in9)\n",
        "enficre2[1]=func_punto_1(serie_in11)\n",
        "enficre2[2]=func_punto_1(serie_in13)\n",
        "enficre2[3]=func_punto_1(serie_in15)\n",
        "\n",
        "enficaprox1[0]=func_punto_1(corre1)\n",
        "enficaprox1[1]=func_punto_1(corre2)\n",
        "enficaprox1[2]=func_punto_1(corre3)\n",
        "enficaprox1[3]=func_punto_1(corre4)\n",
        "enficaprox2[0]=func_punto_1(corre5)\n",
        "enficaprox2[1]=func_punto_1(corre6)\n",
        "enficaprox2[2]=func_punto_1(corre7)\n",
        "enficaprox2[3]=func_punto_1(corre8)\n",
        "\n",
        "index = np.arange(4)\n",
        "rects1 = plt.bar(index, mbe_ser1, bar_width,color='b',label='MBE')\n",
        "rects2 = plt.bar(index + bar_width, rmse_ser1,bar_width,color='g',label='RMSEn')\n",
        "plt.xlabel('Ciudad')\n",
        "plt.ylabel('Porcentaje de error [%]')\n",
        "plt.title('Grafica 6a. Porcentajes de error por ciudad')\n",
        "plt.xticks(index + bar_width, (ciudad1,ciudad2,ciudad3,ciudad4))\n",
        "plt.legend()\n",
        "plt.tight_layout()\n",
        "grid()\n",
        "pylab.savefig(os.path.join(output_dir,'barras.png'), dpi=600)\n",
        "close()\n",
        "\n",
        "rects1 = plt.bar(index, mbe_ser2, bar_width,color='b',label='MBE')\n",
        "rects2 = plt.bar(index + bar_width, rmse_ser2,bar_width,color='g',label='RMSEn')\n",
        "plt.xlabel('Ciudad')\n",
        "plt.ylabel('Porcentaje de error [%]')\n",
        "plt.title('Grafica 6b. Porcentajes de error por ciudad')\n",
        "plt.xticks(index + bar_width, (ciudad5,ciudad6,ciudad7,ciudad8))\n",
        "plt.legend()\n",
        "plt.tight_layout()\n",
        "grid()\n",
        "pylab.savefig(os.path.join(output_dir,'barras2.png'), dpi=600)\n",
        "close()\n",
        "\n",
        "rects1 = plt.bar(index, enficre1, bar_width,color='b',label='IDEAM')\n",
        "rects2 = plt.bar(index + bar_width, enficaprox1,bar_width,color='g',label='corregida')\n",
        "plt.xlabel('Ciudad')\n",
        "plt.ylabel('ENFICC [Kwh/dia]')\n",
        "plt.title('Grafica 7a. ENFICC calculada por ciudad')\n",
        "plt.xticks(index + bar_width, (ciudad1,ciudad2,ciudad3,ciudad4))\n",
        "plt.legend()\n",
        "plt.tight_layout()\n",
        "grid()\n",
        "pylab.savefig(os.path.join(output_dir,'enfic1.png'), dpi=600)\n",
        "close()\n",
        "\n",
        "rects1 = plt.bar(index, enficre2, bar_width,color='b',label='IDEAM')\n",
        "rects2 = plt.bar(index + bar_width, enficaprox2,bar_width,color='g',label='corregida')\n",
        "plt.xlabel('Ciudad')\n",
        "plt.ylabel('ENFICC [Kwh/dia]')\n",
        "plt.title('Grafica 7b. ENFICC calculada por ciudad')\n",
        "plt.xticks(index + bar_width, (ciudad5,ciudad6,ciudad7,ciudad8))\n",
        "plt.legend()\n",
        "plt.tight_layout()\n",
        "grid()\n",
        "pylab.savefig(os.path.join(output_dir,'enfic2.png'), dpi=600)\n",
        "close()"
      ],
      "outputs": [],
      "execution_count": 145,
      "metadata": {
        "collapsed": false,
        "outputHidden": false,
        "inputHidden": false
      }
    },
    {
      "cell_type": "code",
      "source": [
        "porcentaje1=(enficre1-enficaprox1)*100/enficre1##codigo usado para generar graficas del analisis \n",
        "porcentaje2=(enficre2-enficaprox2)/enficre2\n",
        "\n",
        "plt.bar(index,porcentaje1,align='center')\n",
        "plt.xticks(index, (ciudad1,ciudad2,ciudad3,ciudad4))\n",
        "plt.xlabel('Ciudad')\n",
        "plt.ylabel('Diferencia [%]')\n",
        "plt.title('Grafica 8a. Diferencia entre ENFICC IDEAM y corregida')\n",
        "plt.legend()\n",
        "plt.tight_layout()\n",
        "grid()\n",
        "pylab.savefig(os.path.join(output_dir,'porcentaje1.png'), dpi=600)\n",
        "close()\n",
        "\n",
        "plt.bar(index,porcentaje2,align='center')\n",
        "plt.xticks(index, (ciudad5,ciudad6,ciudad7,ciudad8))\n",
        "plt.xlabel('Ciudad')\n",
        "plt.ylabel('Diferencia [%]')\n",
        "plt.title('Grafica 8b. Diferencia entre ENFICC IDEAM y corregida')\n",
        "plt.legend()\n",
        "plt.tight_layout()\n",
        "grid()\n",
        "pylab.savefig(os.path.join(output_dir,'porcentaje2.png'), dpi=600)\n",
        "close()\n",
        "\n\n",
        "nomb = np.array([\"IDEAM\", \"satelite\", \"corregida\"])\n",
        "func_punto_2(serie_in,serie_in2,corre1,nombres=nomb,nombsalida=\"grafica9\",nombgraf=\"Grafica 9. Distribucion de energia para sucre\")"
      ],
      "outputs": [],
      "execution_count": 146,
      "metadata": {
        "collapsed": false,
        "outputHidden": false,
        "inputHidden": false
      }
    },
    {
      "cell_type": "markdown",
      "source": [],
      "metadata": {}
    },
    {
      "cell_type": "markdown",
      "source": [
        "##Punto 5\n",
        "\n",
        "# Análisis del método\n",
        "\n",
        "##Indicadores de error respecto a la cantidad de meses\n",
        "\n",
        "Para apreciar el comportamiento de los indicadores de error respecto al largo de las series objetivo, se tomaron múltiples series objetivo con largos de 1 a 24 meses en un año seleccionado de forma (2012) para luego usando cada una de estas series realizar la corrección de los datos satelitales y calcular los errores obtenidos respecto a la serie de datos dada por el IDEAM. Este procedimiento se realizó para las 3 ciudades con las que se contaba series de IDEAM con duraciones de 10 años, los resultados se presentan a continuación.\n",
        "\n",
        "###error RMSEn\n",
        "<img src=\"output/RMSN.png\">\n",
        "\n",
        "Respecto al indicador de RMSEn en las tres ciudades analizadas se puede apreciar un comportamiento distinto en cada una de estas conforme la serie objetivo crece de 1 a 6 meses. Por ejemplo, para Medellín el error es el mínimo obtenido para una serie objetivo de 1 mes y aumenta hasta un máximo de error en el tercer mes para luego caer nuevamente.\n",
        "Para Uribia el error RMSEn empieza desde un mínimo y crece ligeramente conforme aumenta el número de meses, y en el caso de Sucre el error comienza en un valor elevado y disminuye rápidamente conforme aumenta el número de meses de la serie objetivo.\n",
        "Lo anterior muestra que conforme aumenta el número de meses de la serie objetivo para un rango de entre 1 y 6 meses el comportamiento del error RMSEn no es predecible. Este comportamiento podría ser causado por el poco número de datos con los que se cuenta que no permiten predecir la variabilidad climática de la ciudad para un tiempo mayor.\n",
        "\n",
        "Sin embargo, en comparación a lo anterior, una vez se establece la serie objetivo con una duración de entre 10 y 12 meses en adelante el error RMSEn tiende a mantener un valor constante sin consideración de la ciudad o el comportamiento impredecible del error para series con menor cantidad de meses.\n",
        "\n",
        "Lo anterior permite concluir que a pesar de que en ocasiones el error RMSEn obtenido con series referencia cortas pueda ser menor que con series largas este no es un comportamiento constante o repetible por lo que no sería adecuado el uso de este tipo de series para corregir los datos satelitales. Por el contrario, sería adecuado el uso de series objetivo de entre 10 y 12 meses para las cuales el error RMSEn tiene un valor bajo y constante independiente de la ciudad, lo cual puede resultar más trabajable que no tener certeza si el error será muy grande o muy pequeño.\n",
        "También se puede apreciar el uso de series objetivo con duración mayor a 12 meses para la corrección de los datos satelitales no representa un beneficio significativo en la disminución del error RMSEn el cual para series mayores a 12 meses se mantiene prácticamente constante. \n",
        "\n",
        "###error MBE\n",
        "<img src=\"output/MBE.png\">\n",
        "\n",
        "El comportamiento del error MBE presentado en la gráfica 2 es muy similar al observado para el indicador RMSEn, pues en la primera parte las gráficas presentan un comportamiento muy distinto entre cada ciudad para luego tender a un valor constante al aumentar la cantidad de meses de la serie objetivo independientemente de la ciudad.\n",
        "\n",
        "Sin embargo, también se observa que para que el error MBE tienda a un valor constante se requiere una cantidad de meses más alta que el valor de entre 10 y 12 meses requeridos para estabilizar el error RMSEn. Por ejemplo, el error MBE para la serie de Sucre tiene la cantidad de meses más alta en su serie objetivo para tender a un valor constante, requiriendo de entre 18 y 20 meses.\n",
        "\n",
        "También es posible apreciar que existe una relación en el comportamiento del error RMSEn y MBE puesto que las curvas obtenidas para este último se asemejan a una reflexión respecto al eje horizontal. Esto sugiere que el comportamiento del error que parecía aleatorio para series objetivo de pocos meses no es del todo aleatorio, sino que depende de la serie referencia y objetivo, siendo esta la causa de que las curvas generadas por los errores sean tan similares.\n",
        "\n",
        "Debido a esto y con el propósito de que el error tienda a un valor constante para los múltiples indicadores se recomienda que las series objetivo tengan un valor de 20 meses, valor para el cual los dos indicadores de error han tendido a un valor fijo en las gráficas observadas anteriormente.\n",
        "\n",
        "##Indicadores de error respecto al año de la serie objetivo\n",
        "\n",
        "Ahora el análisis se centrara en el comportamiento de los indicadores de error respecto al año en el que se realiza la toma de datos de la serie objetivo, por esto y tomando en cuenta que el análisis anterior mostro que los indicadores de error tendían a un valor constante con series de datos de 20 meses se tomaron distintas series de 20 meses iniciando en distintos años para luego usando cada una de estas series realizar la corrección de los datos satelital es y calcular los errores obtenidos respecto a la serie de datos dada por el IDEAM. Los resultados se presentan a continuación. \n",
        "\n",
        "<img src=\"output/anioRMSN.png\">\n",
        "<img src=\"output/anioMBE.png\">\n",
        "\n",
        "De las gráficas anteriores es posible apreciar que el error fluctúa constantemente dependiendo del año, pero presenta una variación considerable cuando la serie objetivo se ubicó entre los años 2010 y 2011. Este fenómeno puede ser explicado por el fuerte invierno que se generó entre estos años causa del fenómeno de la niña (fuente: http://www.semana.com/nacion/articulo/el-peor-invierno-historia-colombia/125720-3)  lo que implicaría que los datos de una serie objetivo medida durante este periodo de tiempo estarían cargados de un comportamiento inusual que la haría diferir del comportamiento natural del clima.\n",
        "\n",
        "La anterior conclusión se refuerza por el comportamiento observado en la gráfica 5 donde para la ciudad de Sucre, que presento el aumento más marcado del error durante este periodo de tiempo, se graficó el promedio diario mensual de radiación solar para las series del IDEAM, satelital y corregida utilizando una serie objetivo extraída del año 2011.\n",
        "<img src=\"output/serie2011.png\">\n",
        "\n",
        "se observa como alrededor del mes 70 (es decir, entre 2010 y 2011) se presenta una fuerte caída en la energía medida por el IDEAM que al ser tenida en cuenta por la corrección de datos satelitales desplaza la serie corregida haciendo que este reporte una radiación menor que la reportada por la serie del IDEAM en el resto de años, incluso a pesar de que en la serie satelital reporte una mayor cantidad de radiación.\n",
        "\n",
        "Debido a esto se puede concluir que cambios drásticos en el clima que queden registrados en la serie objetivo pueden significar aumentos significativos en los porcentajes de error de la serie corregida y por tanto sería recomendable considerar este tipo de cambios para validar o no el uso de una serie objetivo.\n",
        "\n",
        "##Indicadores de error y ENFICC\n",
        "\n",
        "Para analizar el impacto de los indicadores de error sobre el valor calculado de ENFICC, se tomaron series objetivo de largo 20 meses y ubicadas en un año (2013) en el cual no se presentarán cambios drásticos en el comportamiento del clima como el fenómeno del niño o de la niña, tomando en cuenta las observaciones anteriores. Con estas series se realizó la corrección para las distintas ciudades de las cuales se tienen datos del IDEAM, los resultados se presentan a continuación.\n",
        "<img src=\"output/barras.png\">\n",
        "<img src=\"output/barras2.png\">\n",
        "<img src=\"output/enfic1.png\">\n",
        "<img src=\"output/enfic2.png\">\n",
        "<img src=\"output/porcentaje1.png\">\n",
        "<img src=\"output/porcentaje2.png\">\n",
        "\n",
        "Se puede apreciar que el error RMSEn se mantiene en un rango de entre 13,36 y 15,58 % lo que representa un valor de error ligeramente elevado pero consistente. De manera contraria al error MBE se mantiene en un rango de entre 0,28 y 8,04 % teniendo valores menores pero distribuidos en un rango más amplio.\n",
        "\n",
        "En las gráficas 7 y 8 se observa que con el método usado la ENFICC determinada con los datos del IDEAM y los datos corregidos son muy similares y presentan diferencias menores al 1% para todos los casos excepto con la salvedad de sucre.\n",
        "\n",
        "Este caso es muy particular pues la diferencia entre la ENFICC corregida e IDEAM es superior al 70% a pesar de que como se ve en la gráfica 6 sus indicadores de error no son ni los más altos ni difieren significativamente con los de las otras ciudades. La posible causa de esta diferencia puede radicar en el efecto significativo que tuvo el fenómeno de la niña sobre esta serie.\n",
        "\n",
        "Como se ve en la gráfica 5, esta serie de datos presento una fuerte caída en su promedio de radiación diaria mensual en el año 2011 a causa del fenómeno de la niña, esta decaída pudo haber añadido en la distribucion de energia valores bajos que la metodologia de correcion no pudo preveer a partir de la serie objetivo. La anterior hipótesis se reafirma con lo observado en la gráfica 9 donde se graficó la distribución de energía para sucre y donde se puede observar que a pesar de que la serie corregida se aproxima significativamente a la serie IDEAM en gran parte de esta, difieren ampliamente en la zona de energía más baja de la cual se extrae el valor de la ENFICC.\n",
        "\n",
        "<img src=\"output/grafica9.png\">\n",
        "\n",
        "Esto lleva a concluir que para asegurar que el método usado para la corrección de los datos disminuye la diferencia con la ENFICC real no basta solo con disminuir los porcentajes de error sino también se debe cumplir que el comportamiento climático en la zona analizada no difiera significativamente de su comportamiento natural.\n",
        "\n",
        "##Conclusiones\n",
        " * Con el fin de reducir y estabilizar los indicadores de error de la serie corregida se recomienda el uso de series objetivo de al menos 20 datos. \n",
        "* Con el fin de reducir los indicadores de error de la serie corregida se recomienda utilizar series objetivo tomadas en periodos de tiempo que no estén afectados por fenómenos inusuales del clima como el fenómeno del niño o de la niña.\n",
        "*Para zonas afectadas fuertemente por fenómenos inusuales del clima la reducción de los indicadores de error no conllevan a una reducción en las diferencias de la ENFICC de los datos corregidos y los datos objetivo.\n",
        "\n"
      ],
      "metadata": {}
    }
  ],
  "metadata": {
    "kernelspec": {
      "name": "python3",
      "language": "python",
      "display_name": "Python 3"
    },
    "kernel_info": {
      "name": "python3"
    },
    "language_info": {
      "name": "python",
      "version": "3.6.3",
      "mimetype": "text/x-python",
      "codemirror_mode": {
        "name": "ipython",
        "version": 3
      },
      "pygments_lexer": "ipython3",
      "nbconvert_exporter": "python",
      "file_extension": ".py"
    },
    "nteract": {
      "version": "0.7.1"
    }
  },
  "nbformat": 4,
  "nbformat_minor": 4
}