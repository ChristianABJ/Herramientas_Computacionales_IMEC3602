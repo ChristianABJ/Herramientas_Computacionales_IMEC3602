{
  "cells": [
    {
      "cell_type": "code",
      "source": [
        "import os\n",
        "import pandas as pd\n",
        "from scipy import stats\n",
        "%pylab inline\n"
      ],
      "outputs": [
        {
          "output_type": "stream",
          "name": "stdout",
          "text": [
            "Populating the interactive namespace from numpy and matplotlib\n"
          ]
        }
      ],
      "execution_count": 1,
      "metadata": {
        "collapsed": false,
        "outputHidden": false,
        "inputHidden": false
      }
    },
    {
      "cell_type": "code",
      "source": [
        "\n",
        "os.chdir('C:\\\\Users\\\\Christian\\\\Documents\\\\GitHub\\\\Herramientas_Computacionales_IMEC3602\\\\02_taller01')\n",
        "\n",
        "base_dir = os.path.join( '.','data')\n",
        "output_dir = os.path.join( '.','output')\n",
        "\n",
        "ciudad1 = 'Sucre'\n",
        "fuente1 = 'IDEAM'\n",
        "ciudad2 = 'Sucre'\n",
        "fuente2 = 'NREL'\n",
        "ciudad3 = 'Medellin'\n",
        "fuente3 = 'IDEAM'\n",
        "ciudad4 = 'Medellin'\n",
        "fuente4 = 'NREL'\n",
        "ciudad5 = 'Uribia'\n",
        "fuente5 = 'IDEAM'\n",
        "ciudad6 = 'Uribia'\n",
        "fuente6 = 'NREL'\n",
        "\n",
        "serie_csv = os.path.join(base_dir,ciudad1,fuente1+'.csv')\n",
        "serie_csv2 = os.path.join(base_dir,ciudad2,fuente2+'.csv')\n",
        "serie_csv3 = os.path.join(base_dir,ciudad3,fuente3+'.csv')\n",
        "serie_csv4 = os.path.join(base_dir,ciudad4,fuente4+'.csv')\n",
        "serie_csv5 = os.path.join(base_dir,ciudad5,fuente5+'.csv')\n",
        "serie_csv6 = os.path.join(base_dir,ciudad6,fuente6+'.csv')\n",
        "\n",
        "serie_in= pd.read_csv(serie_csv, sep = ';',encoding='latin-1')\n",
        "serie_in2= pd.read_csv(serie_csv2, sep = ';',encoding='latin-1')\n",
        "serie_in3= pd.read_csv(serie_csv3, sep = ';',encoding='latin-1')\n",
        "serie_in4= pd.read_csv(serie_csv4, sep = ';',encoding='latin-1')\n",
        "serie_in5= pd.read_csv(serie_csv5, sep = ';',encoding='latin-1')\n",
        "serie_in6= pd.read_csv(serie_csv6, sep = ';',encoding='latin-1')\n",
        "\n",
        "rang_anio=numpy.arange(2006,2016)\n",
        "serie_in2=serie_in2[serie_in2['AÑO'].isin(rang_anio)]\n",
        "serie_in4=serie_in4[serie_in4['AÑO'].isin(rang_anio)]\n",
        "serie_in6=serie_in6[serie_in6['AÑO'].isin(rang_anio)]\n",
        "\n"
      ],
      "outputs": [],
      "execution_count": 2,
      "metadata": {
        "collapsed": false,
        "outputHidden": false,
        "inputHidden": false
      }
    },
    {
      "cell_type": "code",
      "source": [
        "def ghi_mensual(serie_horaria):\n",
        "    agnos = sorted(serie_horaria['AÑO'].unique())\n",
        "    ghi_df = pd.DataFrame(columns=[\"AÑO\", \"MES\", \"DIAS\", \"GHImes\"])\n",
        "    for agno in agnos:\n",
        "        for mes in range(1,13):\n",
        "            nombre_energia = list(serie_horaria)[-1]\n",
        "            dias = sorted(serie_horaria[(serie_horaria['AÑO'] == agno) & (serie_horaria['MES'] == mes)][\"DIA\"].unique())\n",
        "            ghi_mes = serie_horaria.loc[((serie_horaria[\"AÑO\"] == agno)& (serie_horaria[\"MES\"] == mes)),nombre_energia].sum()/1000\n",
        "            ghi_dict = {\"AÑO\":agno, \"MES\":mes, \"DIAS\":dias[-1],\"GHImes\":ghi_mes}\n",
        "            ghi_df = ghi_df.append(ghi_dict, ignore_index=True)\n",
        "    return ghi_df\n",
        "\n\n",
        "def ghi_dia(serie_ghi_mensual):\n",
        "    agnos = sorted(serie_ghi_mensual['AÑO'].unique())\n",
        "    ghi_df = pd.DataFrame(columns=[\"AÑO\", \"MES\", \"GHIdiario\"])\n",
        "    for agno in agnos:\n",
        "        for mes in range(1,13):\n",
        "            dias = serie_ghi_mensual.loc[((serie_ghi_mensual[\"AÑO\"] == agno) & (serie_ghi_mensual[\"MES\"] == mes)),\"DIAS\"].item()\n",
        "            ghi_diario = serie_ghi_mensual.loc[((serie_ghi_mensual[\"AÑO\"] == agno)& (serie_ghi_mensual[\"MES\"] == mes)),\"GHImes\"].item()/dias\n",
        "            ghi_dict = {\"AÑO\":agno, \"MES\":mes, \"GHIdiario\":ghi_diario}\n",
        "            ghi_df = ghi_df.append(ghi_dict, ignore_index=True)\n",
        "    return ghi_df"
      ],
      "outputs": [],
      "execution_count": 3,
      "metadata": {
        "collapsed": false,
        "outputHidden": false,
        "inputHidden": false
      }
    },
    {
      "cell_type": "markdown",
      "source": [
        "para la realizacion de las funciones requeridas en el punto 1 y 2 es necesario de cierta manera organizar la ENFICC de menor a mayor por lo que antes de generar el codigo de estas funciones se realiza una funcion de apoyo que realice este procedimiento y que pueda ser llamada en ambos casos"
      ],
      "metadata": {}
    },
    {
      "cell_type": "code",
      "source": [
        "def func_sort (serie_int):#funcion para ordenar la enfic de mayor a menor \n",
        " mensual=ghi_mensual(serie_int)#utilza la funcion ghi_mensual para encontrar el promedio mensual \n",
        " diario=ghi_dia(mensual)#utilia la funcion ghi_dia para encontrar el promedio diario \n",
        " enficc_ord = sorted(diario[\"GHIdiario\"])#ordena los valores de promedio diario de menor a mayor en una lista\n",
        " return enficc_ord\n",
        " "
      ],
      "outputs": [],
      "execution_count": 4,
      "metadata": {
        "collapsed": false,
        "outputHidden": false,
        "inputHidden": false
      }
    },
    {
      "cell_type": "markdown",
      "source": [
        "##Punto 1\n",
        "para generar la funcion del punto 1 se utiliza la funcion func_sort antes generada para organizar la ENFICC de la serie de datos que ingresa por parametro. despues se utiliza el comando percentile para encontrar la ENFICC que es superada por el 99% de los valores."
      ],
      "metadata": {}
    },
    {
      "cell_type": "code",
      "source": [
        "def func_punto_1 (serie_int):\n",
        " lista_enficc=func_sort(serie_int)\n",
        " percentil=numpy.percentile(lista_enficc,1)\n",
        " resp=numpy.around(percentil, decimals=2)#establece un valor de dos cifras cignificativas para el percentil\n",
        " print('La ENFICC correspondiente al 99% es',resp, 'kw/h')\n",
        " return resp\n",
        "\nfunc_punto_1(serie_in)#codigo de prueba"
      ],
      "outputs": [
        {
          "output_type": "stream",
          "name": "stdout",
          "text": [
            "La ENFICC correspondiente al 99% es 2.38 kw/h\n"
          ]
        },
        {
          "output_type": "execute_result",
          "execution_count": 5,
          "data": {
            "text/plain": [
              "2.3799999999999999"
            ]
          },
          "metadata": {}
        }
      ],
      "execution_count": 5,
      "metadata": {
        "collapsed": false,
        "outputHidden": false,
        "inputHidden": false
      }
    },
    {
      "cell_type": "markdown",
      "source": [
        "##Punto 2\n",
        "Para generar la funcion del segundo punto nuevamente se utiliza func_sort para organizar la ENFICC de cada una de las series de datos que ingresen. Dado que no se especifica una cantidad exacta de series de datos como entrada a la funcion se utiliza un parametro de entrada abierto que permite ingresar la cantidad de series deseadas, para luego usando un if graficar la ENFICC de cada una de ellas"
      ],
      "metadata": {}
    },
    {
      "cell_type": "code",
      "source": [
        "def func_punto_2(*arg):\n",
        " rango=numpy.arange(0,len(arg))#se determina el numero de series a graficar\n",
        " for i in rango:#se genera un if que recorra cada una de las funciones\n",
        "  datos=func_sort (arg[i])#se define datos como la ENFICC organizada de la serie numero i ingresada como parametro\n",
        "  numdatos = range(len(datos))#se determina el numero de datos que se tienen para la ENFICC de la serie numero i\n",
        "  pylab.plot(numdatos,datos/datos[0],label=('serie ',i))# se grafica los datos de ENFICC contra el numero de datos, se le asigan el label #1\n",
        " pylab.legend(loc='upper left')  \n",
        " pylab.xlabel(\"Datos\")\n",
        " pylab.ylabel(\"Energía/Energía Base IDEAM\")\n",
        " plt.grid()\n",
        "\n",
        "func_punto_2(serie_in,serie_in2)#codigo de prueba de la funcion\n"
      ],
      "outputs": [],
      "execution_count": 6,
      "metadata": {
        "collapsed": false,
        "outputHidden": false,
        "inputHidden": false
      }
    },
    {
      "cell_type": "markdown",
      "source": [
        "Para probar la funcion a realizar en el punto 3 y como una herramienta util en el analisis a realizar en el punto 5 se genera una funcion que extraiga de una serie de datos los datos para un año especifico y de una longitud en meses dada, esta fucnion se presenta a continuacion"
      ],
      "metadata": {}
    },
    {
      "cell_type": "code",
      "source": [
        "def func_selec(df,meses,anio):  \n",
        " if meses>12:\n",
        "   anio_2=(anio+1)\n",
        "   meses_1=12\n",
        "   meses_2=meses-12\n",
        "   range_meses2=numpy.arange(1,(meses_2+1))\n",
        "   serie_selec2=df.loc[df['MES'].isin(range_meses2) & (df['AÑO'] == anio_2)]\n",
        " else:\n",
        "  meses_1=meses\n",
        " \n",
        " rang_meses=numpy.arange(1,(meses_1+1))# se genera un arreglo con los numeros de meses desde el mes 1 hasta el numero de mes parametro mas 1\n",
        " serie_selec=df.loc[df['MES'].isin(rang_meses) & (df['AÑO'] == anio)]#se seleccionan los datos datos que cumplen con las condiciones\n",
        " \n",
        " if meses>12:\n",
        "  serie_selec=pd.concat([serie_selec,serie_selec2])\n",
        " return (serie_selec)\n",
        "\n",
        "obj=func_selec(serie_in,16,2006)#codigo de prueba\n"
      ],
      "outputs": [],
      "execution_count": null,
      "metadata": {
        "collapsed": false,
        "outputHidden": false,
        "inputHidden": false
      }
    },
    {
      "cell_type": "markdown",
      "source": [
        "##Punto 3\n",
        "para realizar el ajuste de la serie de largo plazo la funcion comienza por establecer a que año y a que meses corresponde la serie de datos de corto plazo medida en el sitio y usando la funcion func_selec selecciona los datos que corresponden a la misma temporalidad de la serie de largo plazo a ser ajustada.\n",
        "Una vez realizado el procedmiento anterior la funcion calcula las varianzas y los valores medios de las series de referencia y de objetivo para luego utilizando las ecuaciones establecidas en la seccion 3.1.4 del documento realizar el ajuste de la serie de datos de largo plazo."
      ],
      "metadata": {}
    },
    {
      "cell_type": "code",
      "source": [
        "def func_punto_3(serie_ref,serie_obj):\n",
        " anios = sorted(serie_obj['AÑO'].unique())#se genera una lista con los años presentes en la serie de corto plazo (se asume que solo hay un año)\n",
        " meses = sorted(serie_obj['MES'].unique())#se genera una lista con los meses presentes en la serie de corto plazo\n",
        " anio=anios[0]\n",
        " if len(anios)>1:\n",
        "   serie_seg=serie_obj.loc[(serie_obj['AÑO'] == (anio+1))]\n",
        "   meses2 = sorted(serie_seg['MES'].unique())\n",
        "   mes=12+meses2[-1]\n",
        " else:\n",
        "   mes=meses[-1]\n",
        "                     \n",
        " serie_ref2=func_selec(serie_ref,mes,anio)#se seleccionan los datos de la serie a ajustar para la misma temporalidad \n",
        " serie_corr=serie_ref\n",
        " lista_ref=np.asarray(list(serie_ref.T.iloc[-1]))#los datos de la serie de referencia se convierte a una lista\n",
        " lista_ref2 =np.asarray(list(serie_ref2.T.iloc[-1]))#los datos de la serie de referencia en misma temporalidad se convierte a una lista\n",
        " lista_obj = np.asarray(list(serie_obj.T.iloc[-1]))#los datos de energia de la serie de objetivo se convierte a una lista\n",
        " sigma_obj=np.std(lista_obj)#desviacion estandar de la lista objetivo\n",
        " sigma_ref2=np.std(lista_ref2)#desviacion estandar de la lista referencia\n",
        " med_obj=np.average(lista_obj)#media de la lista objetivo\n",
        " med_ref2=np.average(lista_ref2)#media de la lista referencia\n",
        " c=med_obj-(med_ref2*sigma_obj/sigma_ref2)#calculo de parametro c\n",
        " m=sigma_obj/sigma_ref2#calculo parametro m\n",
        " lista_corr=((m*lista_ref)+c)#se genera una lista con los valores de energia corregidos \n",
        " serie_corr[-1]=lista_corr#se asigna la lista con los valores corregidos a la serie corregida\n",
        " return (serie_corr)\n",
        "    \n",
        "corr=func_punto_3(serie_in2,obj)\n",
        "\n"
      ],
      "outputs": [],
      "execution_count": null,
      "metadata": {
        "collapsed": false,
        "outputHidden": false,
        "inputHidden": false
      }
    },
    {
      "cell_type": "markdown",
      "source": [
        "##Punto 4\n",
        "las funciones de error se generan utilizando las ecuaciones presentadas en la seccion 3.1.2 del documento\n",
        "\n###Funcion para calculo de la RMSEn"
      ],
      "metadata": {}
    },
    {
      "cell_type": "code",
      "source": [
        "def rmsn(obs,mod):\n",
        "  lista_obs=np.asarray(list(obs.T.iloc[-1]))#se genera un arreglo con los valores de energia de la serie obs\n",
        "  lista_mod=np.asarray(list(mod.T.iloc[-1]))#se genera un arreglo con los valores de energia de la rerie mod\n",
        "  n=len(lista_obs)#se determina el numero total de datos\n",
        "  rest=lista_obs-lista_mod#se realiza el procesamiento matematico establecido\n",
        "  prom=np.sqrt((np.sum(rest**2))/n)\n",
        "  obs_max=np.amax(lista_obs)\n",
        "  resp=100*prom/obs_max\n",
        "  return(resp)\n",
        "\nrmsn(serie_in,corr)#codigo de prueba de la funcion"
      ],
      "outputs": [],
      "execution_count": null,
      "metadata": {
        "collapsed": false,
        "outputHidden": false,
        "inputHidden": false
      }
    },
    {
      "cell_type": "markdown",
      "source": [
        "###Funcion para calculo de la MBE"
      ],
      "metadata": {}
    },
    {
      "cell_type": "code",
      "source": [
        "def mbe(obs,mod):\n",
        "  lista_obs=np.asarray(list(obs.T.iloc[-1]))#se genera un arreglo con los valores de energia de la serie obs\n",
        "  lista_mod=np.asarray(list(mod.T.iloc[-1]))#se genera un arreglo con los valores de energia de la rerie mod\n",
        "  rest=np.sum(lista_obs-lista_mod)#se realiza el procesamiento matematico establecido\n",
        "  tot=np.sum(lista_obs)\n",
        "  resp=100*rest/tot\n",
        "  return(resp)\n",
        "\nmbe(serie_in,corr)"
      ],
      "outputs": [],
      "execution_count": null,
      "metadata": {
        "collapsed": false,
        "outputHidden": false,
        "inputHidden": false
      }
    },
    {
      "cell_type": "markdown",
      "source": [
        "###Funcion para calculo de la \"KSI\""
      ],
      "metadata": {}
    },
    {
      "cell_type": "code",
      "source": [
        "def ksi(obs,mod):\n",
        " ser_obs=func_sort(obs)\n",
        " ser_mod=func_sort(mod)\n",
        " dat=stats.ks_2samp(ser_obs,ser_mod)\n",
        " resp=dat[-1]\n",
        " return(resp)\n",
        "\nksi(serie_in,corr)"
      ],
      "outputs": [],
      "execution_count": null,
      "metadata": {
        "collapsed": false,
        "outputHidden": false,
        "inputHidden": false
      }
    },
    {
      "cell_type": "code",
      "source": [
        "num_meses=24##lineas de codigo a usar para las graficas del analisis\n",
        "meses=linspace(1,num_meses,num_meses)\n",
        "meses=meses.astype(int)\n",
        "ser_rmsn1=np.zeros(num_meses)\n",
        "ser_mbe1=np.zeros(num_meses)\n",
        "ser_ksi1=np.zeros(num_meses)\n",
        "ser_rmsn2=np.zeros(num_meses)\n",
        "ser_mbe2=np.zeros(num_meses)\n",
        "ser_ksi2=np.zeros(num_meses)\n",
        "ser_rmsn3=np.zeros(num_meses)\n",
        "ser_mbe3=np.zeros(num_meses)\n",
        "ser_ksi3=np.zeros(num_meses)\n",
        "for i in meses:\n",
        " obje1=func_selec(serie_in,i,2012)\n",
        " obje2=func_selec(serie_in3,i,2012)\n",
        " obje3=func_selec(serie_in5,i,2012)\n",
        " correg1=func_punto_3(serie_in2,obje1)\n",
        " correg2=func_punto_3(serie_in4,obje2)\n",
        " correg3=func_punto_3(serie_in6,obje3)\n",
        " ser_rmsn1[i-1]=rmsn(correg1,serie_in)\n",
        " ser_mbe1[i-1]=mbe(correg1,serie_in)\n",
        " ser_ksi1[i-1]=ksi(correg1,serie_in)\n",
        " ser_rmsn2[i-1]=rmsn(correg2,serie_in3)\n",
        " ser_mbe2[i-1]=mbe(correg2,serie_in3)\n",
        " ser_ksi2[i-1]=ksi(correg2,serie_in3)\n",
        " ser_rmsn3[i-1]=rmsn(correg3,serie_in5)\n",
        " ser_mbe3[i-1]=mbe(correg3,serie_in5)\n",
        " ser_ksi3[i-1]=ksi(correg3,serie_in5)\n",
        "\n "
      ],
      "outputs": [],
      "execution_count": null,
      "metadata": {}
    },
    {
      "cell_type": "code",
      "source": [
        "pylab.plot(ser_rmsn1,label='Sucre')\n",
        "pylab.plot(ser_rmsn2,label='Medellin')\n",
        "pylab.plot(ser_rmsn3,label='Uribia')\n",
        "pylab.legend(loc='center right')  \n",
        "pylab.xlabel(\"Meses de la serie objetivo\")\n",
        "pylab.ylabel(\"Error RMSN [%]\")\n",
        "plt.grid()\n",
        "pylab.savefig(os.path.join(output_dir,'RMSN.png'), dpi=600)"
      ],
      "outputs": [],
      "execution_count": null,
      "metadata": {
        "collapsed": false,
        "outputHidden": false,
        "inputHidden": false
      }
    },
    {
      "cell_type": "markdown",
      "source": [
        "#Punto 5-Analisis\n",
        "\n",
        "##Indicadores de error respecto a la cantidad de meses\n",
        "\n",
        "###error RMSEn\n",
        "\n",
        "<img src=\"RMSN.png\">\n",
        "\n",
        "Las gráficas anteriores presentan el comportamiento de los tres indicadores de error de la serie corregida respecto al número de meses de la serie objetivo con el propósito de poder establecer consideraciones frente a la influencia del número de meses sobre estos indicadores.\n",
        "\n",
        "Respecto al indicador de RMSEn en las tres ciudades analizadas se puede apreciar un comportamiento distinto en cada una de estas conforme la serie objetivo crece de 1 a 5 meses, por ejemplo, para Medellín el error es mínimo para una serie objetivo de 1 mes y aumenta hasta un máximo de error en el tercer mes para luego caer nuevamente.\n",
        "Para Uribia el error empieza desde un mínimo y aumenta ligeramente conforme aumenta el número de meses, y en el caso de Sucre el error comienza en un valor elevado y disminuye rápidamente conforme aumenta el número de meses de la serie objetivo.\n",
        "\n",
        "Lo anterior muestra que conforme aumenta el número de meses de la serie objetivo para un rango de entre 1 y 6 meses el comportamiento del error no es predecible, lo que podría ser causado por el poco número de datos con los que se cuenta y dependiendo de la ciudad que tan cambiante puede ser el clima en un periodo más largo de tiempo.\n",
        "\n",
        "Sin embargo, en comparación a lo anterior una vez la serie objetivo tiene una duración de entre 10 y 12 meses en adelante el error tiende a mantener un valor constante sin consideración de la ciudad o el comportamiento impredecible del error para series con menor cantidad de meses.\n",
        "\n",
        "Lo anterior permite concluir que a pesar de que en ocasiones el error obtenido con series referencia cortas pueda ser menor que con series largas este no es un comportamiento constante o repetible por lo que no sería adecuado el uso de este tipo de series. Por el contrario, sería adecuado el uso de series referencia de entre 10 y 12 meses para las cuales el error se disminuye y tiene un comportamiento constante independiente de la ciudad.\n",
        "También se puede apreciar como requerir una serie objetivo con duración mayor a 12 meses no representa un beneficio significativo en la disminución del error puesto que este varia muy levemente. \n",
        "\n"
      ],
      "metadata": {}
    }
  ],
  "metadata": {
    "kernelspec": {
      "name": "python3",
      "language": "python",
      "display_name": "Python 3"
    },
    "kernel_info": {
      "name": "python3"
    },
    "language_info": {
      "name": "python",
      "version": "3.6.3",
      "mimetype": "text/x-python",
      "codemirror_mode": {
        "name": "ipython",
        "version": 3
      },
      "pygments_lexer": "ipython3",
      "nbconvert_exporter": "python",
      "file_extension": ".py"
    },
    "nteract": {
      "version": "0.7.1"
    }
  },
  "nbformat": 4,
  "nbformat_minor": 4
}