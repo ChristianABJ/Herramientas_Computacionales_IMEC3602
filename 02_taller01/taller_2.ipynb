{
  "cells": [
    {
      "cell_type": "code",
      "source": [
        "import os\n",
        "import pandas as pd\n",
        "from scipy import stats\n",
        "%pylab inline\n"
      ],
      "outputs": [
        {
          "output_type": "stream",
          "name": "stdout",
          "text": [
            "Populating the interactive namespace from numpy and matplotlib\n"
          ]
        }
      ],
      "execution_count": 12,
      "metadata": {
        "collapsed": false,
        "outputHidden": false,
        "inputHidden": false
      }
    },
    {
      "cell_type": "code",
      "source": [
        "\n",
        "os.chdir('C:\\\\Users\\\\Christian\\\\Documents\\\\GitHub\\\\Herramientas_Computacionales_IMEC3602\\\\02_taller01')\n",
        "\n",
        "base_dir = os.path.join( '.','data')\n",
        "output_dir = os.path.join( '.','output')\n",
        "\n",
        "ciudad1 = 'Valledupar'\n",
        "fuente1 = 'IDEAM'\n",
        "ciudad2 = 'Valledupar'\n",
        "fuente2 = 'NREL'\n",
        "ciudad3 = 'Medellin'\n",
        "fuente3 = 'IDEAM'\n",
        "ciudad4 = 'Medellin'\n",
        "fuente4 = 'NREL'\n",
        "\n",
        "serie_csv = os.path.join(base_dir,ciudad1,fuente1+'.csv')\n",
        "serie_csv2 = os.path.join(base_dir,ciudad2,fuente2+'.csv')\n",
        "serie_csv3 = os.path.join(base_dir,ciudad3,fuente3+'.csv')\n",
        "serie_csv4 = os.path.join(base_dir,ciudad4,fuente4+'.csv')\n",
        "\n",
        "serie_in= pd.read_csv(serie_csv, sep = ';',encoding='latin-1')\n",
        "serie_in2= pd.read_csv(serie_csv2, sep = ';',encoding='latin-1')\n",
        "serie_in3= pd.read_csv(serie_csv3, sep = ';',encoding='latin-1')\n",
        "serie_in4= pd.read_csv(serie_csv4, sep = ';',encoding='latin-1')\n",
        "\n",
        "rang_anio=numpy.arange(2006,2016)\n",
        "serie_in2=serie_in2[serie_in2['AÑO'].isin(rang_anio)]\n",
        "serie_in4=serie_in4[serie_in4['AÑO'].isin(rang_anio)]\n",
        "\n"
      ],
      "outputs": [],
      "execution_count": 2,
      "metadata": {
        "collapsed": false,
        "outputHidden": false,
        "inputHidden": false
      }
    },
    {
      "cell_type": "code",
      "source": [
        "def ghi_mensual(serie_horaria):\n",
        "    agnos = sorted(serie_horaria['AÑO'].unique())\n",
        "    ghi_df = pd.DataFrame(columns=[\"AÑO\", \"MES\", \"DIAS\", \"GHImes\"])\n",
        "    for agno in agnos:\n",
        "        for mes in range(1,13):\n",
        "            nombre_energia = list(serie_horaria)[-1]\n",
        "            dias = sorted(serie_horaria[(serie_horaria['AÑO'] == agno) & (serie_horaria['MES'] == mes)][\"DIA\"].unique())\n",
        "            ghi_mes = serie_horaria.loc[((serie_horaria[\"AÑO\"] == agno)& (serie_horaria[\"MES\"] == mes)),nombre_energia].sum()/1000\n",
        "            ghi_dict = {\"AÑO\":agno, \"MES\":mes, \"DIAS\":dias[-1],\"GHImes\":ghi_mes}\n",
        "            ghi_df = ghi_df.append(ghi_dict, ignore_index=True)\n",
        "    return ghi_df\n",
        "\n\n",
        "def ghi_dia(serie_ghi_mensual):\n",
        "    agnos = sorted(serie_ghi_mensual['AÑO'].unique())\n",
        "    ghi_df = pd.DataFrame(columns=[\"AÑO\", \"MES\", \"GHIdiario\"])\n",
        "    for agno in agnos:\n",
        "        for mes in range(1,13):\n",
        "            dias = serie_ghi_mensual.loc[((serie_ghi_mensual[\"AÑO\"] == agno) & (serie_ghi_mensual[\"MES\"] == mes)),\"DIAS\"].item()\n",
        "            ghi_diario = serie_ghi_mensual.loc[((serie_ghi_mensual[\"AÑO\"] == agno)& (serie_ghi_mensual[\"MES\"] == mes)),\"GHImes\"].item()/dias\n",
        "            ghi_dict = {\"AÑO\":agno, \"MES\":mes, \"GHIdiario\":ghi_diario}\n",
        "            ghi_df = ghi_df.append(ghi_dict, ignore_index=True)\n",
        "    return ghi_df"
      ],
      "outputs": [],
      "execution_count": 3,
      "metadata": {
        "collapsed": false,
        "outputHidden": false,
        "inputHidden": false
      }
    },
    {
      "cell_type": "markdown",
      "source": [
        "para la realizacion de las funciones requeridas en el punto 1 y 2 es necesario de cierta manera organizar la ENFICC de menor a mayor por lo que antes de generar el codigo de estas funciones se realiza una funcion de apoyo que realice este procedimiento y que pueda ser llamada en ambos casos"
      ],
      "metadata": {}
    },
    {
      "cell_type": "code",
      "source": [
        "def func_sort (serie_int):#funcion para ordenar la enfic de mayor a menor \n",
        " mensual=ghi_mensual(serie_int)#utilza la funcion ghi_mensual para encontrar el promedio mensual \n",
        " diario=ghi_dia(mensual)#utilia la funcion ghi_dia para encontrar el promedio diario \n",
        " enficc_ord = sorted(diario[\"GHIdiario\"])#ordena los valores de promedio diario de menor a mayor en una lista\n",
        " return enficc_ord\n",
        " "
      ],
      "outputs": [],
      "execution_count": 4,
      "metadata": {
        "collapsed": false,
        "outputHidden": false,
        "inputHidden": false
      }
    },
    {
      "cell_type": "markdown",
      "source": [
        "##Punto 1\n",
        "para generar la funcion del punto 1 se utiliza la funcion func_sort antes generada para organizar la ENFICC de la serie de datos que ingresa por parametro. despues se utiliza el comando percentile para encontrar la ENFICC que es superada por el 99% de los valores."
      ],
      "metadata": {}
    },
    {
      "cell_type": "code",
      "source": [
        "def func_punto_1 (serie_int):\n",
        " lista_enficc=func_sort(serie_int)\n",
        " percentil=numpy.percentile(lista_enficc,1)\n",
        " resp=numpy.around(percentil, decimals=2)#establece un valor de dos cifras cignificativas para el percentil\n",
        " print('La ENFICC correspondiente al 99% es',resp, 'kw/h')\n",
        " return resp\n",
        "\nfunc_punto_1(serie_in)#codigo de prueba"
      ],
      "outputs": [
        {
          "output_type": "stream",
          "name": "stdout",
          "text": [
            "La ENFICC correspondiente al 99% es 4.57 kw/h\n"
          ]
        },
        {
          "output_type": "execute_result",
          "execution_count": 5,
          "data": {
            "text/plain": [
              "4.5700000000000003"
            ]
          },
          "metadata": {}
        }
      ],
      "execution_count": 5,
      "metadata": {
        "collapsed": false,
        "outputHidden": false,
        "inputHidden": false
      }
    },
    {
      "cell_type": "markdown",
      "source": [
        "##Punto 2\n",
        "Para generar la funcion del segundo punto nuevamente se utiliza func_sort para organizar la ENFICC de cada una de las series de datos que ingresen. Dado que no se especifica una cantidad exacta de series de datos como entrada a la funcion se utiliza un parametro de entrada abierto que permite ingresar la cantidad de series deseadas, para luego usando un if graficar la ENFICC de cada una de ellas"
      ],
      "metadata": {}
    },
    {
      "cell_type": "code",
      "source": [
        "def func_punto_2(*arg):\n",
        " rango=numpy.arange(0,len(arg))#se determina el numero de series a graficar\n",
        " for i in rango:#se genera un if que recorra cada una de las funciones\n",
        "  datos=func_sort (arg[i])#se define datos como la ENFICC organizada de la serie numero i ingresada como parametro\n",
        "  numdatos = range(len(datos))#se determina el numero de datos que se tienen para la ENFICC de la serie numero i\n",
        "  pylab.plot(numdatos,datos/datos[0],label=('serie ',i))# se grafica los datos de ENFICC contra el numero de datos, se le asigan el label #1\n",
        " pylab.legend(loc='upper left')  \n",
        " pylab.xlabel(\"Datos\")\n",
        " pylab.ylabel(\"Energía/Energía Base IDEAM\")\n",
        " plt.grid()\n",
        "\n",
        "func_punto_2(serie_in,serie_in2)#codigo de prueba de la funcion\n"
      ],
      "outputs": [
        {
          "output_type": "display_data",
          "data": {
            "text/plain": [
              "<matplotlib.figure.Figure at 0xf57fe04240>"
            ],
            "image/png": "[encoded data removed]"
          },
          "metadata": {}
        }
      ],
      "execution_count": 6,
      "metadata": {
        "collapsed": false,
        "outputHidden": false,
        "inputHidden": false
      }
    },
    {
      "cell_type": "markdown",
      "source": [
        "Para probar la funcion a realizar en el punto 3 y como una herramienta util en el analisis a realizar en el punto 5 se genera una funcion que extraiga de una serie de datos los datos para un año especifico y de una longitud en meses dada, esta fucnion se presenta a continuacion"
      ],
      "metadata": {}
    },
    {
      "cell_type": "code",
      "source": [
        "def func_selec(df,meses,anio):  \n",
        " rang_meses=numpy.arange(1,(meses+1))# se genera un arreglo con los numeros de meses desde el mes 1 hasta el numero de mes parametro mas 1\n",
        " serie_selec=df.loc[df['MES'].isin(rang_meses) & (df['AÑO'] == anio)]#se seleccionan los datos datos que cumplen con las condiciones\n",
        " return (serie_selec)\n",
        "\nobj=func_selec(serie_in,6,2006)#codigo de prueba"
      ],
      "outputs": [],
      "execution_count": 7,
      "metadata": {
        "collapsed": false,
        "outputHidden": false,
        "inputHidden": false
      }
    },
    {
      "cell_type": "markdown",
      "source": [
        "##Punto 3\n",
        "para realizar el ajuste de la serie de largo plazo la funcion comienza por establecer a que año y a que meses corresponde la serie de datos de corto plazo medida en el sitio y usando la funcion func_selec selecciona los datos que corresponden a la misma temporalidad de la serie de largo plazo a ser ajustada.\n",
        "Una vez realizado el procedmiento anterior la funcion calcula las varianzas y los valores medios de las series de referencia y de objetivo para luego utilizando las ecuaciones establecidas en la seccion 3.1.4 del documento realizar el ajuste de la serie de datos de largo plazo."
      ],
      "metadata": {}
    },
    {
      "cell_type": "code",
      "source": [
        "def func_punto_3(serie_ref,serie_obj):\n",
        " anios = sorted(serie_obj['AÑO'].unique())#se genera una lista con los años presentes en la serie de corto plazo (se asume que solo hay un año)\n",
        " meses = sorted(serie_obj['MES'].unique())#se genera una lista con los meses presentes en la serie de corto plazo\n",
        " anio=anios[-1]#se establece el año al que corresponde la serie de corto plazo\n",
        " serie_ref2=func_selec(serie_ref,meses[-1],anios[0])#se seleccionan los datos de la serie a ajustar para la misma temporalidad \n",
        " serie_corr=serie_ref\n",
        " \n",
        " lista_ref=np.asarray(list(serie_ref.T.iloc[-1]))#los datos de la serie de referencia se convierte a una lista\n",
        " lista_ref2 =np.asarray(list(serie_ref2.T.iloc[-1]))#los datos de la serie de referencia en misma temporalidad se convierte a una lista\n",
        " lista_obj = np.asarray(list(serie_obj.T.iloc[-1]))#los datos de energia de la serie de objetivo se convierte a una lista\n",
        " sigma_obj=np.std(lista_obj)#desviacion estandar de la lista objetivo\n",
        " sigma_ref2=np.std(lista_ref2)#desviacion estandar de la lista referencia\n",
        " med_obj=np.average(lista_obj)#media de la lista objetivo\n",
        " med_ref2=np.average(lista_ref2)#media de la lista referencia\n",
        " c=med_obj-(med_ref2*sigma_obj/sigma_ref2)#calculo de parametro c\n",
        " m=sigma_obj/sigma_ref2#calculo parametro m\n",
        " lista_corr=((m*lista_ref)+c)#se genera una lista con los valores de energia corregidos \n",
        " serie_corr[-1]=lista_corr#se asigna la lista con los valores corregidos a la serie corregida\n",
        " return (serie_corr)\n",
        "    \n",
        "corr=func_punto_3(serie_in2,obj)\n"
      ],
      "outputs": [],
      "execution_count": 53,
      "metadata": {
        "collapsed": false,
        "outputHidden": false,
        "inputHidden": false
      }
    },
    {
      "cell_type": "markdown",
      "source": [
        "##Punto 4\n",
        "las funciones de error se generan utilizando las ecuaciones presentadas en la seccion 3.1.2 del documento\n",
        "\n###Funcion para calculo de la RMSEn"
      ],
      "metadata": {}
    },
    {
      "cell_type": "code",
      "source": [
        "def rmsn(obs,mod):\n",
        "  lista_obs=np.asarray(list(obs.T.iloc[-1]))#se genera un arreglo con los valores de energia de la serie obs\n",
        "  lista_mod=np.asarray(list(mod.T.iloc[-1]))#se genera un arreglo con los valores de energia de la rerie mod\n",
        "  n=len(lista_obs)#se determina el numero total de datos\n",
        "  rest=lista_obs-lista_mod#se realiza el procesamiento matematico establecido\n",
        "  prom=np.sqrt((np.sum(rest**2))/n)\n",
        "  obs_max=np.amax(lista_obs)\n",
        "  resp=100*prom/obs_max\n",
        "  return(resp)\n",
        "\nrmsn(serie_in,corr)#codigo de prueba de la funcion"
      ],
      "outputs": [
        {
          "output_type": "execute_result",
          "execution_count": 54,
          "data": {
            "text/plain": [
              "8.4149711646097103"
            ]
          },
          "metadata": {}
        }
      ],
      "execution_count": 54,
      "metadata": {
        "collapsed": false,
        "outputHidden": false,
        "inputHidden": false
      }
    },
    {
      "cell_type": "markdown",
      "source": [
        "###Funcion para calculo de la MBE"
      ],
      "metadata": {}
    },
    {
      "cell_type": "code",
      "source": [
        "def mbe(obs,mod):\n",
        "  lista_obs=np.asarray(list(obs.T.iloc[-1]))#se genera un arreglo con los valores de energia de la serie obs\n",
        "  lista_mod=np.asarray(list(mod.T.iloc[-1]))#se genera un arreglo con los valores de energia de la rerie mod\n",
        "  rest=np.sum(lista_obs-lista_mod)#se realiza el procesamiento matematico establecido\n",
        "  tot=np.sum(lista_obs)\n",
        "  resp=100*rest/tot\n",
        "  return(resp)\n",
        "\nmbe(serie_in,corr)"
      ],
      "outputs": [
        {
          "output_type": "execute_result",
          "execution_count": 55,
          "data": {
            "text/plain": [
              "-1.1829883058030828"
            ]
          },
          "metadata": {}
        }
      ],
      "execution_count": 55,
      "metadata": {
        "collapsed": false,
        "outputHidden": false,
        "inputHidden": false
      }
    },
    {
      "cell_type": "markdown",
      "source": [
        "#Punto 5-Analisis"
      ],
      "metadata": {}
    }
  ],
  "metadata": {
    "kernelspec": {
      "name": "python3",
      "language": "python",
      "display_name": "Python 3"
    },
    "kernel_info": {
      "name": "python3"
    },
    "language_info": {
      "name": "python",
      "version": "3.6.3",
      "mimetype": "text/x-python",
      "codemirror_mode": {
        "name": "ipython",
        "version": 3
      },
      "pygments_lexer": "ipython3",
      "nbconvert_exporter": "python",
      "file_extension": ".py"
    },
    "nteract": {
      "version": "0.7.1"
    }
  },
  "nbformat": 4,
  "nbformat_minor": 4
}