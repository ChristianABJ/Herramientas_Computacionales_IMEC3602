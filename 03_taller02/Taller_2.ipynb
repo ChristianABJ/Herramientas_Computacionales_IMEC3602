{
  "cells": [
    {
      "cell_type": "code",
      "source": [
        "import os\n",
        "import pandas as pd\n",
        "import matplotlib.pyplot as plt\n",
        "from scipy.integrate import odeint\n",
        "%pylab inline\n"
      ],
      "outputs": [
        {
          "output_type": "stream",
          "name": "stdout",
          "text": [
            "Populating the interactive namespace from numpy and matplotlib\n"
          ]
        }
      ],
      "execution_count": 1,
      "metadata": {
        "collapsed": false,
        "outputHidden": false,
        "inputHidden": false
      }
    },
    {
      "cell_type": "markdown",
      "source": [
        "###Definicion de variables\n"
      ],
      "metadata": {}
    },
    {
      "cell_type": "code",
      "source": [
        "rll=0.139 # Radio geométrico de las llantas en traseras (m)\n",
        "refc=0.98*rll # Radio efectivo llantas traseras (m)\n",
        "rin=0.0631 #radio interno del neumático (m)\n",
        "\n",
        "# Datos eje llantas\n",
        "reje=0.02 # Radio eje de las llantas (m)\n",
        "meje=3.832 # Masa del eje (kg)\n",
        "\n\n",
        "mllt=1.43 # Masa llantas traseras (kg)\n",
        "mlld=1.20 # Masa llantas delanteras (kg)\n",
        "rlld=0.129 # Radio llantas delanteras (m)\n",
        "rind=0.0631 # Radio rin llantas delanteras (m)\n",
        "mbt=0.7*mllt # El porcentaje de la masa total que pesa la parte \"banda\" de la llanta trasera\n",
        "mdt=0.3*mllt # El porcentaje de la masa total que pesa la parte \"disco\" de la llanta trasera\n",
        "mbd=0.7*mlld # El porcentaje de la masa total que pesa la parte \"banda\" de la llanta delantera\n",
        "mdd=0.3*mlld # El porcentaje de la masa total que pesa la parte \"disco\" de la llanta delantera\n",
        "illd=(mbd*rlld)+(mdd*(rlld**2-rind**2))/2 # Inercia 1 llanta delantera (kg-m^2)\n",
        "illt=(mbt*rll)+(mdt*(rll**2-rin**2))/2 # Inercia 1 llanta trasera (kg-m^2)\n",
        "\n",
        "ieje=(meje*reje**2)/2.0 # Inercia del eje de las llantas (kg-m^2)\n",
        "\n",
        "theta=0##angulo de inclinacion de la pista\n",
        "nt=0.95 #eficiencia de la transmision\n",
        "nc=2.25 #relacion de transmision\n",
        "r=refc#radio de las llantas\n",
        "m=147 #masa vehiculo\n",
        "rho=0.95 #densidad del aire\n",
        "af=0.575 #area frontal del vehiculo\n",
        "cd=0.804 #coeficiente de arrastre\n",
        "inw=illt#inercia de las llantas\n",
        "ind=ieje#inercia del eje\n",
        "ine=5.2E-3#inercia del motor\n",
        "pi=3.1459265 #coeficiente de arrastre\n",
        "mr=(inw+ind+(ine*(nc**2)))/(r**2)##calculo de la masa rotacional\n",
        "mtot=m+mr##calculo de la masa total"
      ],
      "outputs": [],
      "execution_count": 2,
      "metadata": {
        "collapsed": false,
        "outputHidden": false,
        "inputHidden": false
      }
    },
    {
      "cell_type": "markdown",
      "source": [
        "###fuerza de rodadura"
      ],
      "metadata": {}
    },
    {
      "cell_type": "code",
      "source": [
        "def fr(vel):#funcion para calcular la fuerza de rodadura a una velocidad dada\n",
        "    vkmh=vel*3.6\n",
        "    w=m*9.8\n",
        "    fr=0.01*(1+(vkmh/100.0)) \n",
        "    return w*fr*cos(theta)"
      ],
      "outputs": [],
      "execution_count": 3,
      "metadata": {
        "collapsed": false,
        "outputHidden": false,
        "inputHidden": false
      }
    },
    {
      "cell_type": "markdown",
      "source": [
        "###Fuerza de frenado"
      ],
      "metadata": {}
    },
    {
      "cell_type": "code",
      "source": [
        "def ffren(vel):#funcion para calcular el torque de frenado a una velocidad dada \n",
        " frenadomax=-20\n",
        " res=frenadomax/r\n",
        " return(res)"
      ],
      "outputs": [],
      "execution_count": 4,
      "metadata": {
        "collapsed": false,
        "outputHidden": false,
        "inputHidden": false
      }
    },
    {
      "cell_type": "markdown",
      "source": [
        "###fuerza de arrastre\n",
        "\n"
      ],
      "metadata": {}
    },
    {
      "cell_type": "code",
      "source": [
        "def da(vel):#funcion para calcular la fuerza de arrastre a una velocidad dada\n",
        " resp=0.5*rho*af*cd*(vel**2)\n",
        " return (resp)\n"
      ],
      "outputs": [],
      "execution_count": 5,
      "metadata": {
        "collapsed": false,
        "outputHidden": false,
        "inputHidden": false
      }
    },
    {
      "cell_type": "markdown",
      "source": [
        "###torque motor"
      ],
      "metadata": {}
    },
    {
      "cell_type": "code",
      "source": [
        "def torq(vel):#funcion para calcular el torque generado a una velocidad dada\n",
        " w=vel*nc/r\n",
        " wrpm=w*60/(2*pi)\n",
        " c2=(-4.368628107/(10**8))\n",
        " c3=(8.598594866/(10**5))\n",
        " c4=1.57456788\n",
        " c5=4.8948056\n",
        " pot=((c2*(wrpm**3))+(c3*(wrpm**2))+(c4*wrpm)+c5)\n",
        " resp=pot/w\n",
        " return (resp)"
      ],
      "outputs": [],
      "execution_count": 6,
      "metadata": {
        "collapsed": false,
        "outputHidden": false,
        "inputHidden": false
      }
    },
    {
      "cell_type": "code",
      "source": [
        "def derivada(velocidad):#funcion para determinar la aceleracion a una velocidad dada durante la aceleracion\n",
        "  rpm=(velocidad/(nc*r))*60/(2*pi)  \n",
        "  if rpm>5000.0:\n",
        "   resp=0# se restrigne el aumento de velocidad hasta la velocidad maxima del motor \n",
        "  else:\n",
        "   trac=torq(velocidad)*nc*nt/r\n",
        "   resp=(trac-da(velocidad)-fr(velocidad))/mtot \n",
        "  return resp\n"
      ],
      "outputs": [],
      "execution_count": 7,
      "metadata": {
        "collapsed": false,
        "outputHidden": false,
        "inputHidden": false
      }
    },
    {
      "cell_type": "code",
      "source": [
        "def derivadafren(velocidad):#funcion para determinar la aceleracion a una velocidad dada durante el frenado\n",
        " trac=torq(velocidad)*nc*nt/r\n",
        " if velocidad>0.01:#se restringe la aceleracion para que llegado a cero no tenga velocidad negativa\n",
        "  resp=(ffren(velocidad)-da(velocidad)-fr(velocidad))/mtot \n",
        " else:\n",
        "  resp=0      \n",
        " return resp"
      ],
      "outputs": [],
      "execution_count": 8,
      "metadata": {
        "collapsed": false,
        "outputHidden": false,
        "inputHidden": false
      }
    },
    {
      "cell_type": "code",
      "source": [
        " def pendiente(x, t):#se genera el sistema de dos ecuaciones (primera y segunda derivada) para utilizar con odeint en la aceeracion\n",
        "  pos, vel = x\n",
        "  dxdt = [vel,derivada(vel)]\n",
        "  return dxdt"
      ],
      "outputs": [],
      "execution_count": 9,
      "metadata": {
        "collapsed": false,
        "outputHidden": false,
        "inputHidden": false
      }
    },
    {
      "cell_type": "code",
      "source": [
        " def pendientefren(x, t):#se genera el sistema de dos ecuaciones (primera y segunda derivada) para utilizar con odeint en el frenado\n",
        "  pos, vel = x\n",
        "  dxdt = [vel,derivadafren(vel)]\n",
        "  return dxdt"
      ],
      "outputs": [],
      "execution_count": 10,
      "metadata": {
        "collapsed": false,
        "outputHidden": false,
        "inputHidden": false
      }
    },
    {
      "cell_type": "code",
      "source": [
        "inicial=[0.0,0.1]#funcion para variar la relacion de transmision y cacular la velocidad maxima y tiempo hasta velmax\n",
        "variableini=nc\n",
        "variable= np.linspace(0.4,4, 101)\n",
        "tiemp = np.linspace(0,400, 4001)\n",
        "long = np.linspace(0,4001, 4002)\n",
        "long=long.astype(int)\n",
        "velmax=[]\n",
        "tmax=[]\n",
        "indice=0\n",
        "for i in variable:\n",
        " boolean=1.0\n",
        " nc=i\n",
        " resp = odeint(pendiente,inicial, tiemp) \n",
        " velo=resp[:,1]\n",
        " velmax.append(np.amax(velo))\n",
        " for j in long:\n",
        "    if boolean==1.0:\n",
        "      val1=round(velo[j], 3)\n",
        "      val2=round(velmax[indice], 3)\n",
        "      if val1==val2:\n",
        "       tmax.append(tiemp[j])\n",
        "       boolean=0.0\n",
        " indice=indice+1\n",
        "\n",
        "nc=variableini\n",
        "plt.plot(variable,velmax)\n",
        "\n",
        "pylab.legend(loc='center right')#grafica de velocidad maxima vs relacion de transmision para determinar la mejor relacion  \n",
        "plt.title('Grafica 1. Velocidad maxima vs relacion de transmicion')\n",
        "pylab.ylabel(\"velocidad maxima alcanzada [m/s]\")\n",
        "pylab.xlabel(\"Relacion de transmision\")\n",
        "plt.grid()\n",
        "pylab.savefig(os.path.join('graf1.png'), dpi=600)\n",
        "plt.close()"
      ],
      "outputs": [],
      "execution_count": 11,
      "metadata": {
        "collapsed": false,
        "outputHidden": false,
        "inputHidden": false
      }
    },
    {
      "cell_type": "code",
      "source": [
        "inicial=[0.0,0.1]#funcion para generar las graficas de posicion y velocidad vs tiempo para arranque y frenado\n",
        "cont=0\n",
        "longit=[]\n",
        "posicion=[]\n",
        "velocidad=[]\n",
        "tiempo=[]\n",
        "tacel= np.asarray([0.0,0.1])\n",
        "longit.append(cont)\n",
        "posicion.append(inicial[0])\n",
        "velocidad.append(inicial[1])\n",
        "tiempo.append(0.0)\n",
        "while (cont ==0 ):\n",
        " solve = odeint(pendiente,inicial,tacel) \n",
        " vel=solve[:,1]\n",
        " pos=solve[:,0]\n",
        " if round(vel[0], 3)==round(vel[1], 3):\n",
        "   cont=1\n",
        " else:\n",
        "  posicion.append(pos[1]) \n",
        "  velocidad.append(vel[1])\n",
        "  tiempo.append(tacel[1])\n",
        "  tacel=tacel+0.1\n",
        "  inicial=[posicion[-1],velocidad[-1]]\n",
        "\n",
        "while (cont ==1 ):\n",
        " solve = odeint(pendientefren,inicial,tacel) \n",
        " vel=solve[:,1]\n",
        " pos=solve[:,0]\n",
        " if round(vel[0], 3)==round(vel[1], 3):\n",
        "   cont=2\n",
        " else:\n",
        "  posicion.append(pos[1]) \n",
        "  velocidad.append(vel[1])\n",
        "  tiempo.append(tacel[1])\n",
        "  tacel=tacel+0.1\n",
        "  inicial=[posicion[-1],velocidad[-1]]\n",
        "\n",
        "  \n",
        "plt.plot(tiempo, velocidad) \n",
        "plt.title('Grafica 2. Velocidad vs tiempo para arranque y frenado nc=2.25')\n",
        "pylab.ylabel(\"Velocidad [m/s]\")\n",
        "pylab.xlabel(\"Tiempo  [s]\")\n",
        "plt.grid()\n",
        "pylab.savefig(os.path.join('graf2.png'), dpi=600)\n",
        "plt.close()\n",
        "\n",
        "plt.plot(tiempo, posicion) \n",
        "plt.title('Grafica 3. Posicion vs tiempo para arranque y frenado nc=2.25')\n",
        "pylab.ylabel(\"Posicion [m]\")\n",
        "pylab.xlabel(\"Tiempo  [s]\")\n",
        "plt.grid()\n",
        "pylab.savefig(os.path.join('graf3.png'), dpi=600)\n",
        "plt.close()\n"
      ],
      "outputs": [],
      "execution_count": 12,
      "metadata": {
        "collapsed": false,
        "outputHidden": false,
        "inputHidden": false
      }
    },
    {
      "cell_type": "code",
      "source": [
        "inicial2=[0.0,0.1]#graficas de velocidad y posicion vs tiempo para distintas relaciones de transmision\n",
        "variableini=nc\n",
        "relaciones= [0.5,1,1.5,2,2.25,3.5]\n",
        "tiemp2 = np.linspace(0,120, 1201)\n",
        "velocidad=[]\n",
        "posicion=[]\n",
        "for j in relaciones:\n",
        " nc=j\n",
        " solucion = odeint(pendiente,inicial2,tiemp2) \n",
        " posicion.append(solucion[:,0])\n",
        " velocidad.append(solucion[:,1])\n",
        "nc=variableini\n",
        "plt.plot(tiemp2, velocidad[0],label=\"0.5\")\n",
        "plt.plot(tiemp2, velocidad[1],label=\"1.0\")\n",
        "plt.plot(tiemp2, velocidad[2],label=\"1.5\")\n",
        "plt.plot(tiemp2, velocidad[3],label=\"2.0\")\n",
        "plt.plot(tiemp2, velocidad[4],label=\"2.25\")\n",
        "plt.plot(tiemp2, velocidad[5],label=\"3.5\")\n",
        "pylab.legend(loc='lower right')  \n",
        "plt.title('Grafica 4. velocidad vs tiempo para distintas relaciones de transmision')\n",
        "pylab.ylabel(\"Velocidad [m/s]\")\n",
        "pylab.xlabel(\"Tiempo  [s]\")\n",
        "plt.grid()\n",
        "pylab.savefig(os.path.join('graf4.png'), dpi=600)\n",
        "plt.close()\n",
        "\n",
        "plt.plot(tiemp2, posicion[0],label=\"0.5\")\n",
        "plt.plot(tiemp2, posicion[1],label=\"1.0\")\n",
        "plt.plot(tiemp2, posicion[2],label=\"1.5\")\n",
        "plt.plot(tiemp2, posicion[3],label=\"2.0\")\n",
        "plt.plot(tiemp2, posicion[4],label=\"2.25\")\n",
        "plt.plot(tiemp2, posicion[5],label=\"3.5\")\n",
        "pylab.legend(loc='lower right')  \n",
        "plt.title('Grafica 5. Posicion vs tiempo para distintas relaciones de transmision')\n",
        "pylab.ylabel(\"posicion lineal [m]\")\n",
        "pylab.xlabel(\"Tiempo  [s]\")\n",
        "plt.grid()\n",
        "pylab.savefig(os.path.join('graf5.png'), dpi=600)\n",
        "plt.close()\n"
      ],
      "outputs": [],
      "execution_count": 13,
      "metadata": {
        "collapsed": false,
        "outputHidden": false,
        "inputHidden": false
      }
    },
    {
      "cell_type": "code",
      "source": [
        "inicial2=[0.0,0.1]#graficas de velocidad y posicion vs tiempo para distintas masas del vehiculo\n",
        "masas= [100,150,175,200,225]\n",
        "tiemp2 = np.linspace(0,150, 1501)\n",
        "velocidad=[]\n",
        "posicion=[]\n",
        "for j in masas:\n",
        " m=j\n",
        " mtot=m+mr\n",
        " solucion = odeint(pendiente,inicial2,tiemp2) \n",
        " posicion.append(solucion[:,0])\n",
        " velocidad.append(solucion[:,1])\n",
        "m=variableini\n",
        "mtot=m+mr\n",
        "plt.plot(tiemp2, velocidad[0],label=\"100 kg\")\n",
        "plt.plot(tiemp2, velocidad[1],label=\"150 kg\")\n",
        "plt.plot(tiemp2, velocidad[2],label=\"175 kg\")\n",
        "plt.plot(tiemp2, velocidad[3],label=\"200 kg\")\n",
        "plt.plot(tiemp2, velocidad[4],label=\"225 kg\")\n",
        "pylab.legend(loc='lower right')  \n",
        "plt.title('Grafica 6. velocidad vs tiempo para distintas masas del kart')\n",
        "pylab.ylabel(\"Velocidad [m/s]\")\n",
        "pylab.xlabel(\"Tiempo  [s]\")\n",
        "plt.grid()\n",
        "pylab.savefig(os.path.join('graf6.png'), dpi=600)\n",
        "plt.close()\n",
        "\n",
        "plt.plot(tiemp2, posicion[0],label=\"100 kg\")\n",
        "plt.plot(tiemp2, posicion[1],label=\"150 kg\")\n",
        "plt.plot(tiemp2, posicion[2],label=\"175 kg\")\n",
        "plt.plot(tiemp2, posicion[3],label=\"200 kg\")\n",
        "plt.plot(tiemp2, posicion[4],label=\"225 kg\")\n",
        "pylab.legend(loc='lower right')  \n",
        "plt.title('Grafica 7. posicion vs tiempo para distintas masas del kart')\n",
        "pylab.ylabel(\"posicion lineal [m]\")\n",
        "pylab.xlabel(\"Tiempo  [s]\")\n",
        "plt.grid()\n",
        "pylab.savefig(os.path.join('graf7.png'), dpi=600)\n",
        "plt.close()"
      ],
      "outputs": [],
      "execution_count": 14,
      "metadata": {
        "collapsed": false,
        "outputHidden": false,
        "inputHidden": false
      }
    },
    {
      "cell_type": "markdown",
      "source": [
        "\n",
        "# Análisis del kart\n",
        "\n",
        "##relación de transmisión optima\n",
        "\n",
        "A continuación, se presenta la gráfica generada de velocidad máxima vs relación de transmisión con el propósito de observar el comportamiento de estas dos variables una respecto a la otra\n",
        "\n",
        "<img src=\"graf1/RMSN.png\">\n",
        "\n",
        "se puede apreciar que la velocidad máxima aumenta al aumentar la relación de transmisión hasta llegar a un punto de inflexión a partir del cual decae. este comportamiento es causado por el hecho de que a relaciones muy bajas el torque transmitido es muy bajo para lograr vencer las fuerzas de rodadura y arrastre a velocidades elevadas mientras que con relaciones de transmisión demasiado altas se genera un torque elevado pero la velocidad máxima se restringe por la velocidad máxima del motor.\n",
        "De la gráfica 1 se puede apreciar que la relación que genera una velocidad máxima es de 2.25 y seria la relación a utilizar si se desea que el kart pueda alcanzar velocidades más altas. \n",
        "\n",
        "##Graficas de aceleración y desaceleración\n",
        "\n",
        "Tomando como punto de partida que la velocidad máxima del vehículo se obtiene con una relación de transmisión de 2.25 se utilizó este valor para simular la aceleración y posterior frenado del vehículo. las gráficas obtenidas se presentan a continuación \n",
        "\n",
        "<img src=\"graf2.png\">\n",
        "<img src=\"graf3.png\">\n",
        "\n",
        "de las gráficas es posible apreciar que el vehículo tarda alrededor de 55 segundos en alcanzar su velocidad máxima y recorre alrededor de 1.35km antes de volver a detenerse.\n",
        "\n",
        "##Graficas de velocidad y posición vs relación de transmisión\n",
        "\n",
        "Con el propósito de tener una visión más amplia del comportamiento del kart respecto a la relación de transmisión y no únicamente conocer la velocidad máxima. se generaron graficas de velocidad y distancia contra tiempo para distintas relaciones de transmisión las cuales se presentan a continuación.\n",
        "\n",
        "<img src=\"graf4.png\">\n",
        "<img src=\"graf5.png\">\n",
        "\n",
        "de la gráfica 4 se puede apreciar que entre más baja es la relación de velocidad no solo se tiene una menor velocidad máxima sino también toma un tiempo mayor alcanzar dicha velocidad, esto se debe a que para este tipo de relaciones el torque que se presenta en las llantas es muy bajo y por la segunda ley de newton se presentan aceleraciones bajas.\n",
        "\n",
        "también se puede apreciar que entre más elevada sea la relación de transmisión la aceleración es más alta y por ende alcanza esta velocidad más rápidamente, sin embargo, después de la relación de 2.25 observada anteriormente esta velocidad máxima se reduce.\n",
        "\n",
        "respecto a la gráfica 5 se puede apreciar que entre mayor sea la relación de transmisión más alta será la distancia recorrida en los primeros segundos de movimiento, por ejemplo, la distancia recorrida por e kart para una relación de 3.5 es mayor que la distancia para una relación de 2.25 durante los primeros cincuenta segundos.\n",
        "\n",
        "lo anterior indica que dependiendo del tipo de carrera una relación más alta podría ser mejor. por ejemplo, si el circuito de carreras presenta rectas cortas donde difícilmente se pudiera alcanzar la velocidad máxima una relación de transmisión alta que genere aceleraciones mayores permitirá recorrer estas distancias cortas más rápidamente.\n",
        "\n",
        "##Graficas de velocidad y posición vs peso\n",
        "\n",
        "para analizar el efecto del peso sobre el comportamiento de kart se realizaron graficas de velocidad y distancia vs tiempo para distintos pesos del kart, los resultados se presentan a continuación.\n",
        "\n\n",
        "<img src=\"graf6.png\">\n",
        "<img src=\"graf7.png\">\n",
        "\n",
        "las gráficas 6 y 7 presentan un comportamiento esperado de velocidad y distancia recorrida puesto que por la segunda ley de newton a menor masa y una relación de transmisión constante (mismo torque) el vehículo de menor masa se acelerará más y llegara a una velocidad máxima mayor, lo cual también se traduce en una longitud recorrida mayor en un periodo de tiempo dado. debido a esto sería valioso para aumentar el desempeño general del kart reducir el peso hasta el mínimo posible.\n"
      ],
      "metadata": {}
    }
  ],
  "metadata": {
    "kernelspec": {
      "name": "python3",
      "language": "python",
      "display_name": "Python 3"
    },
    "kernel_info": {
      "name": "python3"
    },
    "language_info": {
      "name": "python",
      "version": "3.6.3",
      "mimetype": "text/x-python",
      "codemirror_mode": {
        "name": "ipython",
        "version": 3
      },
      "pygments_lexer": "ipython3",
      "nbconvert_exporter": "python",
      "file_extension": ".py"
    },
    "nteract": {
      "version": "0.7.1"
    }
  },
  "nbformat": 4,
  "nbformat_minor": 4
}