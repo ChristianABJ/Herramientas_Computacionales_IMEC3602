{
  "cells": [
    {
      "cell_type": "markdown",
      "source": [
        "#Ejercicios#\n",
        "ejercicio 1"
      ],
      "metadata": {}
    },
    {
      "cell_type": "code",
      "source": [
        "4.0*0.15+4.5*0.35+3.0*0.40+4.8*0.1"
      ],
      "outputs": [
        {
          "output_type": "execute_result",
          "execution_count": 2,
          "data": {
            "text/plain": [
              "3.855"
            ]
          },
          "metadata": {}
        }
      ],
      "execution_count": 2,
      "metadata": {
        "collapsed": false,
        "outputHidden": false,
        "inputHidden": false
      }
    },
    {
      "cell_type": "code",
      "source": [],
      "outputs": [],
      "execution_count": null,
      "metadata": {
        "collapsed": false,
        "outputHidden": false,
        "inputHidden": false
      }
    }
  ],
  "metadata": {
    "kernelspec": {
      "name": "python3",
      "language": "python",
      "display_name": "Python 3"
    },
    "kernel_info": {
      "name": "python3"
    },
    "nteract": {
      "version": "0.5.5"
    }
  },
  "nbformat": 4,
  "nbformat_minor": 4
}