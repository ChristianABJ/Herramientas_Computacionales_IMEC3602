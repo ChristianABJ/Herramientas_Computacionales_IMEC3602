{
  "cells": [
    {
      "cell_type": "markdown",
      "source": [
        "#Ejercicios#\n",
        "#seccion 1#\n",
        "ejercicio 1"
      ],
      "metadata": {}
    },
    {
      "cell_type": "code",
      "source": [
        "4.0*0.15+4.5*0.35+3.0*0.40+4.8*0.1"
      ],
      "outputs": [
        {
          "output_type": "execute_result",
          "execution_count": 2,
          "data": {
            "text/plain": [
              "3.855"
            ]
          },
          "metadata": {}
        }
      ],
      "execution_count": 2,
      "metadata": {
        "collapsed": false,
        "outputHidden": false,
        "inputHidden": false
      }
    },
    {
      "cell_type": "markdown",
      "source": [
        "ejercicio 2"
      ],
      "metadata": {}
    },
    {
      "cell_type": "code",
      "source": [
        "quices=4.0\n",
        "proyectos=4.5\n",
        "parciales=3.0\n",
        "tareas=4.8\n",
        "notadefinitiva=quices*.15+proyectos*.35+parciales*.4+tareas*.1\n",
        "print(notadefinitiva)\n"
      ],
      "outputs": [
        {
          "output_type": "stream",
          "name": "stdout",
          "text": [
            "3.855\n"
          ]
        }
      ],
      "execution_count": 13,
      "metadata": {
        "collapsed": false,
        "outputHidden": false,
        "inputHidden": false
      }
    },
    {
      "cell_type": "markdown",
      "source": [
        "Ejercicio 3"
      ],
      "metadata": {}
    },
    {
      "cell_type": "code",
      "source": [
        "parciales"
      ],
      "outputs": [
        {
          "output_type": "execute_result",
          "execution_count": 7,
          "data": {
            "text/plain": [
              "3.0"
            ]
          },
          "metadata": {}
        }
      ],
      "execution_count": 7,
      "metadata": {
        "collapsed": false,
        "outputHidden": false,
        "inputHidden": false
      }
    },
    {
      "cell_type": "markdown",
      "source": [
        "ejercicio 4"
      ],
      "metadata": {}
    },
    {
      "cell_type": "code",
      "source": [
        "ejes=4\n",
        "rodamientos=6\n",
        "engranajes=2\n",
        "objetos=ejes+rodamientos+engranajes\n",
        "print(objetos)\n",
        "ejes=6\n",
        "print(ejes)\n",
        "print(objetos)"
      ],
      "outputs": [
        {
          "output_type": "stream",
          "name": "stdout",
          "text": [
            "12\n",
            "6\n",
            "12\n"
          ]
        }
      ],
      "execution_count": 14,
      "metadata": {
        "collapsed": false,
        "outputHidden": false,
        "inputHidden": false
      }
    }
  ],
  "metadata": {
    "kernelspec": {
      "name": "python3",
      "language": "python",
      "display_name": "Python 3"
    },
    "kernel_info": {
      "name": "python3"
    },
    "nteract": {
      "version": "0.5.5"
    }
  },
  "nbformat": 4,
  "nbformat_minor": 4
}