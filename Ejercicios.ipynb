{
  "cells": [
    {
      "cell_type": "markdown",
      "source": [
        "#Ejercicios caputulo 2#\n",
        "#seccion 2#\n",
        "ejercicio 1"
      ],
      "metadata": {}
    },
    {
      "cell_type": "code",
      "source": [
        "4.0*0.15+4.5*0.35+3.0*0.40+4.8*0.1"
      ],
      "outputs": [
        {
          "output_type": "execute_result",
          "execution_count": 2,
          "data": {
            "text/plain": [
              "3.855"
            ]
          },
          "metadata": {}
        }
      ],
      "execution_count": 2,
      "metadata": {
        "collapsed": false,
        "outputHidden": false,
        "inputHidden": false
      }
    },
    {
      "cell_type": "markdown",
      "source": [
        "ejercicio 2"
      ],
      "metadata": {}
    },
    {
      "cell_type": "code",
      "source": [
        "quices=4.0\n",
        "proyectos=4.5\n",
        "parciales=3.0\n",
        "tareas=4.8\n",
        "notadefinitiva=quices*.15+proyectos*.35+parciales*.4+tareas*.1\n",
        "print(notadefinitiva)\n"
      ],
      "outputs": [
        {
          "output_type": "stream",
          "name": "stdout",
          "text": [
            "3.855\n"
          ]
        }
      ],
      "execution_count": 3,
      "metadata": {
        "collapsed": false,
        "outputHidden": false,
        "inputHidden": false
      }
    },
    {
      "cell_type": "markdown",
      "source": [
        "Ejercicio 3"
      ],
      "metadata": {}
    },
    {
      "cell_type": "code",
      "source": [
        "parciales"
      ],
      "outputs": [
        {
          "output_type": "execute_result",
          "execution_count": 4,
          "data": {
            "text/plain": [
              "3.0"
            ]
          },
          "metadata": {}
        }
      ],
      "execution_count": 4,
      "metadata": {
        "collapsed": false,
        "outputHidden": false,
        "inputHidden": false
      }
    },
    {
      "cell_type": "markdown",
      "source": [
        "ejercicio 4"
      ],
      "metadata": {}
    },
    {
      "cell_type": "code",
      "source": [
        "ejes=4\n",
        "rodamientos=6\n",
        "engranajes=2\n",
        "objetos=ejes+rodamientos+engranajes\n",
        "print(objetos)\n",
        "ejes=6\n",
        "print(ejes)\n",
        "print(objetos)"
      ],
      "outputs": [
        {
          "output_type": "stream",
          "name": "stdout",
          "text": [
            "12\n",
            "6\n",
            "12\n"
          ]
        }
      ],
      "execution_count": 5,
      "metadata": {
        "collapsed": false,
        "outputHidden": false,
        "inputHidden": false
      }
    },
    {
      "cell_type": "markdown",
      "source": [
        "#seccion 4#\n",
        "ejercicio 1"
      ],
      "metadata": {}
    },
    {
      "cell_type": "code",
      "source": [
        "import numpy \n",
        "pi=numpy.pi\n",
        "\n",
        "x=numpy.mat([0,0.1*pi,0.2*pi,0.3*pi,0.4*pi,0.5*pi,0.6*pi,0.7*pi,0.8*pi,0.9*pi,pi])\n",
        "y=numpy.sin(x)\n",
        "y"
      ],
      "outputs": [
        {
          "output_type": "execute_result",
          "execution_count": 6,
          "data": {
            "text/plain": [
              "matrix([[  0.00000000e+00,   3.09016994e-01,   5.87785252e-01,\n",
              "           8.09016994e-01,   9.51056516e-01,   1.00000000e+00,\n",
              "           9.51056516e-01,   8.09016994e-01,   5.87785252e-01,\n",
              "           3.09016994e-01,   1.22464680e-16]])"
            ]
          },
          "metadata": {}
        }
      ],
      "execution_count": 6,
      "metadata": {
        "collapsed": false,
        "outputHidden": false,
        "inputHidden": false
      }
    },
    {
      "cell_type": "markdown",
      "source": [
        "ejercicio 2"
      ],
      "metadata": {}
    },
    {
      "cell_type": "code",
      "source": [
        "import numpy \n",
        "x[0,2]\n",
        "y[0,4]"
      ],
      "outputs": [
        {
          "output_type": "execute_result",
          "execution_count": 7,
          "data": {
            "text/plain": [
              "0.95105651629515353"
            ]
          },
          "metadata": {}
        }
      ],
      "execution_count": 7,
      "metadata": {
        "collapsed": false,
        "outputHidden": false,
        "inputHidden": false
      }
    },
    {
      "cell_type": "markdown",
      "source": [
        "ejercicio 3"
      ],
      "metadata": {}
    },
    {
      "cell_type": "code",
      "source": [
        "x[:][:,0:5]"
      ],
      "outputs": [
        {
          "output_type": "execute_result",
          "execution_count": 8,
          "data": {
            "text/plain": [
              "matrix([[ 0.        ,  0.31415927,  0.62831853,  0.9424778 ,  1.25663706]])"
            ]
          },
          "metadata": {}
        }
      ],
      "execution_count": 8,
      "metadata": {
        "collapsed": false,
        "outputHidden": false,
        "inputHidden": false
      }
    },
    {
      "cell_type": "markdown",
      "source": [
        "ejercicio 4"
      ],
      "metadata": {}
    },
    {
      "cell_type": "code",
      "source": [
        "x[:][:,6:]"
      ],
      "outputs": [
        {
          "output_type": "execute_result",
          "execution_count": 59,
          "data": {
            "text/plain": [
              "matrix([[ 1.88495559,  2.19911486,  2.51327412,  2.82743339,  3.14159265]])"
            ]
          },
          "metadata": {}
        }
      ],
      "execution_count": 59,
      "metadata": {
        "collapsed": false,
        "outputHidden": false,
        "inputHidden": false
      }
    },
    {
      "cell_type": "markdown",
      "source": [
        "ejercicio 5"
      ],
      "metadata": {}
    },
    {
      "cell_type": "code",
      "source": [
        "x[:][2:2:7]"
      ],
      "outputs": [],
      "execution_count": null,
      "metadata": {
        "collapsed": false,
        "outputHidden": false,
        "inputHidden": false
      }
    },
    {
      "cell_type": "markdown",
      "source": [
        "ejercicio 6"
      ],
      "metadata": {}
    },
    {
      "cell_type": "markdown",
      "source": [
        "ejercicio 7"
      ],
      "metadata": {}
    },
    {
      "cell_type": "code",
      "source": [
        "x2 = numpy.linspace(0, pi, 11)\n",
        "x2"
      ],
      "outputs": [
        {
          "output_type": "execute_result",
          "execution_count": 71,
          "data": {
            "text/plain": [
              "array([ 0.        ,  0.31415927,  0.62831853,  0.9424778 ,  1.25663706,\n",
              "        1.57079633,  1.88495559,  2.19911486,  2.51327412,  2.82743339,\n",
              "        3.14159265])"
            ]
          },
          "metadata": {}
        }
      ],
      "execution_count": 71,
      "metadata": {
        "collapsed": false,
        "outputHidden": false,
        "inputHidden": false
      }
    },
    {
      "cell_type": "markdown",
      "source": [
        "ejercicio 8"
      ],
      "metadata": {}
    },
    {
      "cell_type": "code",
      "source": [
        "import matplotlib.pyplot as plt\n",
        "plt.plot()\n",
        "plt.title('Funcion seno')\n",
        "plt.show()\n",
        "x"
      ],
      "outputs": [
        {
          "output_type": "display_data",
          "data": {
            "text/plain": [
              "<matplotlib.figure.Figure at 0x2b18190d30>"
            ],
            "image/png": "[encoded data removed]"
          },
          "metadata": {}
        },
        {
          "output_type": "execute_result",
          "execution_count": 17,
          "data": {
            "text/plain": [
              "matrix([[ 0.        ,  0.31415927,  0.62831853,  0.9424778 ,  1.25663706,\n",
              "          1.57079633,  1.88495559,  2.19911486,  2.51327412,  2.82743339,\n",
              "          3.14159265]])"
            ]
          },
          "metadata": {}
        }
      ],
      "execution_count": 17,
      "metadata": {
        "collapsed": false,
        "outputHidden": false,
        "inputHidden": false
      }
    },
    {
      "cell_type": "markdown",
      "source": [
        "Ejercicio 9"
      ],
      "metadata": {}
    },
    {
      "cell_type": "code",
      "source": [
        "import numpy \n",
        "import matplotlib.pyplot as plt\n",
        "num=10000\n",
        "arrprob =numpy.linspace(0, 1, num)\n",
        "for z in range(num):\n",
        "\n",
        " N=z+1\n",
        " cont=0\n",
        " x= numpy.random.uniform(0,1,N)\n",
        " y= numpy.random.uniform(0,1,N)\n",
        " k =numpy.linspace(0, 1, N)\n",
        "\n",
        " x2=1-(2*x)\n",
        " y2=1-(2*y)\n",
        "\n",
        " for i in range(N):\n",
        "  k[i]=(x2[i]*x2[i])+(y2[i]*y2[i])-1\n",
        " for j in range(N): \n",
        "  if k[j] < 0:\n",
        "   cont=cont+1\n",
        "  \n",
        " prob=cont/N\n",
        " arrprob[z]=prob\n",
        "\n\n\n\n",
        "pi=numpy.pi\n",
        "graf=arrprob-(pi/4)\n",
        "plt.plot(graf)\n",
        "plt.title('Funcion seno')\n",
        "plt.show()\n"
      ],
      "outputs": [],
      "execution_count": 25,
      "metadata": {
        "collapsed": false,
        "outputHidden": false,
        "inputHidden": false
      }
    },
    {
      "cell_type": "code",
      "source": [
        "x2"
      ],
      "outputs": [
        {
          "output_type": "execute_result",
          "execution_count": 7,
          "data": {
            "text/plain": [
              "array([ 0.86688889,  0.35741201,  0.75990771, ..., -0.95312289,\n",
              "       -0.71373725,  0.81435161])"
            ]
          },
          "metadata": {}
        }
      ],
      "execution_count": 7,
      "metadata": {
        "collapsed": false,
        "outputHidden": false,
        "inputHidden": false
      }
    },
    {
      "cell_type": "code",
      "source": [
        "y2"
      ],
      "outputs": [
        {
          "output_type": "execute_result",
          "execution_count": 8,
          "data": {
            "text/plain": [
              "array([ 0.86688889,  0.35741201,  0.75990771, ..., -0.95312289,\n",
              "       -0.71373725,  0.81435161])"
            ]
          },
          "metadata": {}
        }
      ],
      "execution_count": 8,
      "metadata": {
        "collapsed": false,
        "outputHidden": false,
        "inputHidden": false
      }
    },
    {
      "cell_type": "code",
      "source": [],
      "outputs": [],
      "execution_count": null,
      "metadata": {
        "collapsed": false,
        "outputHidden": false,
        "inputHidden": false
      }
    }
  ],
  "metadata": {
    "kernelspec": {
      "name": "python3",
      "language": "python",
      "display_name": "Python 3"
    },
    "kernel_info": {
      "name": "python3"
    },
    "nteract": {
      "version": "0.6.2"
    },
    "language_info": {
      "name": "python",
      "version": "3.6.3",
      "mimetype": "text/x-python",
      "codemirror_mode": {
        "name": "ipython",
        "version": 3
      },
      "pygments_lexer": "ipython3",
      "nbconvert_exporter": "python",
      "file_extension": ".py"
    }
  },
  "nbformat": 4,
  "nbformat_minor": 4
}