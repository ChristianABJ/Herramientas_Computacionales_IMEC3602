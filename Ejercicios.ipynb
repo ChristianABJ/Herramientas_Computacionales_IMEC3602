{
  "cells": [
    {
      "cell_type": "markdown",
      "source": [
        "#Ejercicios caputulo 2#\n",
        "#seccion 2#\n",
        "ejercicio 1"
      ],
      "metadata": {}
    },
    {
      "cell_type": "code",
      "source": [
        "4.0*0.15+4.5*0.35+3.0*0.40+4.8*0.1"
      ],
      "outputs": [
        {
          "output_type": "execute_result",
          "execution_count": 2,
          "data": {
            "text/plain": [
              "3.855"
            ]
          },
          "metadata": {}
        }
      ],
      "execution_count": 2,
      "metadata": {
        "collapsed": false,
        "outputHidden": false,
        "inputHidden": false
      }
    },
    {
      "cell_type": "markdown",
      "source": [
        "ejercicio 2"
      ],
      "metadata": {}
    },
    {
      "cell_type": "code",
      "source": [
        "quices=4.0\n",
        "proyectos=4.5\n",
        "parciales=3.0\n",
        "tareas=4.8\n",
        "notadefinitiva=quices*.15+proyectos*.35+parciales*.4+tareas*.1\n",
        "print(notadefinitiva)\n"
      ],
      "outputs": [
        {
          "output_type": "stream",
          "name": "stdout",
          "text": [
            "3.855\n"
          ]
        }
      ],
      "execution_count": 13,
      "metadata": {
        "collapsed": false,
        "outputHidden": false,
        "inputHidden": false
      }
    },
    {
      "cell_type": "markdown",
      "source": [
        "Ejercicio 3"
      ],
      "metadata": {}
    },
    {
      "cell_type": "code",
      "source": [
        "parciales"
      ],
      "outputs": [
        {
          "output_type": "execute_result",
          "execution_count": 7,
          "data": {
            "text/plain": [
              "3.0"
            ]
          },
          "metadata": {}
        }
      ],
      "execution_count": 7,
      "metadata": {
        "collapsed": false,
        "outputHidden": false,
        "inputHidden": false
      }
    },
    {
      "cell_type": "markdown",
      "source": [
        "ejercicio 4"
      ],
      "metadata": {}
    },
    {
      "cell_type": "code",
      "source": [
        "ejes=4\n",
        "rodamientos=6\n",
        "engranajes=2\n",
        "objetos=ejes+rodamientos+engranajes\n",
        "print(objetos)\n",
        "ejes=6\n",
        "print(ejes)\n",
        "print(objetos)"
      ],
      "outputs": [
        {
          "output_type": "stream",
          "name": "stdout",
          "text": [
            "12\n",
            "6\n",
            "12\n"
          ]
        }
      ],
      "execution_count": 15,
      "metadata": {
        "collapsed": false,
        "outputHidden": false,
        "inputHidden": false
      }
    },
    {
      "cell_type": "markdown",
      "source": [
        "#seccion 4#\n",
        "ejercicio 1"
      ],
      "metadata": {}
    },
    {
      "cell_type": "code",
      "source": [
        "import numpy \n",
        "pi=numpy.pi\n",
        "\n",
        "x=numpy.mat([0,0.1*pi,0.2*pi,0.3*pi,0.4*pi,0.5*pi,0.6*pi,0.7*pi,0.8*pi,0.9*pi,pi])\n",
        "y=numpy.sin(x)\n",
        "y"
      ],
      "outputs": [
        {
          "output_type": "execute_result",
          "execution_count": 48,
          "data": {
            "text/plain": [
              "matrix([[  0.00000000e+00,   3.09016994e-01,   5.87785252e-01,\n",
              "           8.09016994e-01,   9.51056516e-01,   1.00000000e+00,\n",
              "           9.51056516e-01,   8.09016994e-01,   5.87785252e-01,\n",
              "           3.09016994e-01,   1.22464680e-16]])"
            ]
          },
          "metadata": {}
        }
      ],
      "execution_count": 48,
      "metadata": {
        "collapsed": false,
        "outputHidden": false,
        "inputHidden": false
      }
    },
    {
      "cell_type": "markdown",
      "source": [
        "ejercicio 2"
      ],
      "metadata": {}
    },
    {
      "cell_type": "code",
      "source": [
        "\n",
        "x[0,2]\n",
        "y[0,4]"
      ],
      "outputs": [
        {
          "output_type": "execute_result",
          "execution_count": 51,
          "data": {
            "text/plain": [
              "0.95105651629515353"
            ]
          },
          "metadata": {}
        }
      ],
      "execution_count": 51,
      "metadata": {
        "collapsed": false,
        "outputHidden": false,
        "inputHidden": false
      }
    }
  ],
  "metadata": {
    "kernelspec": {
      "name": "python3",
      "language": "python",
      "display_name": "Python 3"
    },
    "kernel_info": {
      "name": "python3"
    },
    "nteract": {
      "version": "0.5.5"
    }
  },
  "nbformat": 4,
  "nbformat_minor": 4
}