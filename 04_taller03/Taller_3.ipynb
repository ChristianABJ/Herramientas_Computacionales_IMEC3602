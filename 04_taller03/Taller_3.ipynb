{
  "cells": [
    {
      "cell_type": "code",
      "source": [
        "%pylab inline\n",
        "import matplotlib.pyplot as plt\n",
        "import matplotlib.pylab as pylab\n",
        "import numpy as np\n",
        "import string\n",
        "import matplotlib.cm as cm\n",
        "import os\n",
        "from scipy import ndimage"
      ],
      "outputs": [
        {
          "output_type": "stream",
          "name": "stdout",
          "text": [
            "Populating the interactive namespace from numpy and matplotlib\n"
          ]
        },
        {
          "output_type": "stream",
          "name": "stderr",
          "text": [
            "C:\\ProgramData\\Anaconda3\\lib\\site-packages\\IPython\\core\\magics\\pylab.py:160: UserWarning: pylab import has clobbered these variables: ['pi']\n",
            "`%matplotlib` prevents importing * from pylab and numpy\n",
            "  \"\\n`%matplotlib` prevents importing * from pylab and numpy\"\n"
          ]
        }
      ],
      "execution_count": 66,
      "metadata": {
        "collapsed": false,
        "outputHidden": false,
        "inputHidden": false
      }
    },
    {
      "cell_type": "code",
      "source": [
        "rll=0.139 # Radio geométrico de las llantas en traseras (m)\n",
        "refc=0.98*rll # Radio efectivo llantas traseras (m)\n",
        "rin=0.0631 #radio interno del neumático (m)\n",
        "\n",
        "# Datos eje llantas\n",
        "reje=0.02 # Radio eje de las llantas (m)\n",
        "meje=3.832 # Masa del eje (kg)\n",
        "\n\n",
        "mllt=1.43 # Masa llantas traseras (kg)\n",
        "mlld=1.20 # Masa llantas delanteras (kg)\n",
        "rlld=0.129 # Radio llantas delanteras (m)\n",
        "rind=0.0631 # Radio rin llantas delanteras (m)\n",
        "mbt=0.7*mllt # El porcentaje de la masa total que pesa la parte \"banda\" de la llanta trasera\n",
        "mdt=0.3*mllt # El porcentaje de la masa total que pesa la parte \"disco\" de la llanta trasera\n",
        "mbd=0.7*mlld # El porcentaje de la masa total que pesa la parte \"banda\" de la llanta delantera\n",
        "mdd=0.3*mlld # El porcentaje de la masa total que pesa la parte \"disco\" de la llanta delantera\n",
        "illd=(mbd*rlld)+(mdd*(rlld**2-rind**2))/2 # Inercia 1 llanta delantera (kg-m^2)\n",
        "illt=(mbt*rll)+(mdt*(rll**2-rin**2))/2 # Inercia 1 llanta trasera (kg-m^2)\n",
        "\n",
        "ieje=(meje*reje**2)/2.0 # Inercia del eje de las llantas (kg-m^2)\n",
        "\n",
        "theta=0##angulo de inclinacion de la pista\n",
        "nt=0.95 #eficiencia de la transmision\n",
        "ncelectrico=3.2\n",
        "nccombustion=8\n",
        "r=refc#radio de las llantas\n",
        "m=147 #masa vehiculo\n",
        "rho=0.95 #densidad del aire\n",
        "af=0.575 #area frontal del vehiculo\n",
        "cd=0.804 #coeficiente de arrastre\n",
        "inw=illt#inercia de las llantas\n",
        "ind=ieje#inercia del eje\n",
        "ine=5.2E-3#inercia del motor\n",
        "pi=3.1459265 #coeficiente de arrastre\n",
        "deltat1=0.01;\n",
        "deltat2=0.05;\n"
      ],
      "outputs": [],
      "execution_count": 67,
      "metadata": {
        "collapsed": false,
        "outputHidden": false,
        "inputHidden": false
      }
    },
    {
      "cell_type": "markdown",
      "source": [
        "###Punto 1\n",
        "funcion para tomar los datos del vbox con entradas de la direccion del archivo y salida arreglos con los datos deseados"
      ],
      "metadata": {}
    },
    {
      "cell_type": "code",
      "source": [
        "def datos(base,data):\n",
        " with open(os.path.join(base,data), 'r') as vboxdata:\n",
        "    section = []\n",
        "    time = []\n",
        "    lat = []\n",
        "    long = []\n",
        "    vel = []\n",
        "    height = []\n",
        "    col_names=[]\n",
        "    cont=0\n",
        "    for line in vboxdata:\n",
        "        if line[0] == '[':\n",
        "            section = str.replace(line, \"\\n\",\"\")\n",
        "            cont=0\n",
        "            continue\n",
        "        \n",
        "        if section == '[data]':\n",
        "            linesplit = str.replace(line, \" \\n\",\"\").split(' ')\n",
        "            time.append(float(linesplit[1][0:2])*3600+float(linesplit[1][2:4])*60+float(linesplit[1][4:]))\n",
        "            lat.append(float(linesplit[2]))\n",
        "            long.append(float(linesplit[3]))\n",
        "            vel.append(float(linesplit[4]))\n",
        "            height.append(float(linesplit[6]))\n",
        "       \n",
        "\n",
        "    time = np.asarray(time)\n",
        "    lat = np.asarray(lat)\n",
        "    long = np.asarray(long)\n",
        "    vel = np.asarray(vel) \n",
        "    height = np.asarray(height)\n",
        "    time_base = time[0]\n",
        "    time = np.asarray(time) - time_base\n",
        "    return (time,lat,long,vel)"
      ],
      "outputs": [],
      "execution_count": 68,
      "metadata": {
        "collapsed": false,
        "outputHidden": false,
        "inputHidden": false
      }
    },
    {
      "cell_type": "code",
      "source": [
        "def acelfil(vel,ddt,num):\n",
        "    return ndimage.gaussian_filter1d(vel, sigma=num, order=1, mode='wrap') / ddt"
      ],
      "outputs": [],
      "execution_count": 69,
      "metadata": {
        "collapsed": false,
        "outputHidden": false,
        "inputHidden": false
      }
    },
    {
      "cell_type": "code",
      "source": [
        "def velfil(vel,num):\n",
        "    return ndimage.gaussian_filter1d(vel, sigma=num, order=0, mode='wrap')"
      ],
      "outputs": [],
      "execution_count": 70,
      "metadata": {
        "collapsed": false,
        "outputHidden": false,
        "inputHidden": false
      }
    },
    {
      "cell_type": "code",
      "source": [
        "def da(vel):#funcion para calcular la fuerza de arrastre a una velocidad dada\n",
        " resp=0.5*rho*af*cd*(vel**2)\n",
        " return (resp)"
      ],
      "outputs": [],
      "execution_count": 71,
      "metadata": {
        "collapsed": false,
        "outputHidden": false,
        "inputHidden": false
      }
    },
    {
      "cell_type": "code",
      "source": [
        "def fr(vel,mtot):#funcion para calcular la fuerza de rodadura a una velocidad dada\n",
        "    vkmh=vel*3.6\n",
        "    w=mtot*9.8\n",
        "    fr=0.01*(1+(vkmh/100.0)) \n",
        "    return w*fr*cos(theta)"
      ],
      "outputs": [],
      "execution_count": 72,
      "metadata": {
        "collapsed": false,
        "outputHidden": false,
        "inputHidden": false
      }
    },
    {
      "cell_type": "code",
      "source": [
        "def motor(vel,accel,rel):\n",
        " mr=(inw+ind+(ine*(rel**2)))/(r**2)##calculo de la masa rotacional\n",
        " mtot=m+mr##calculo de la masa total\n",
        " fuerzas=(da(vel)+fr(vel,mtot)+(mtot*accel))\n",
        " torque=fuerzas*r/(rel*nt)\n",
        " velang=vel*rel*9.5492/r\n",
        " return (velang,torque)\n"
      ],
      "outputs": [],
      "execution_count": 73,
      "metadata": {
        "collapsed": false,
        "outputHidden": false,
        "inputHidden": false
      }
    },
    {
      "cell_type": "code",
      "source": [
        "def recorrido(vel,tvel):\n",
        "    sol=[]\n",
        "    largo=len(vel)\n",
        "    tamanio=(np.linspace(1,largo-1,largo)).astype(int)\n",
        "    for i in tamanio:\n",
        "     distancia=np.trapz(vel[0:i],tvel[0:i])\n",
        "     sol.append(distancia)\n",
        "    return(sol)"
      ],
      "outputs": [],
      "execution_count": 74,
      "metadata": {
        "collapsed": false,
        "outputHidden": false,
        "inputHidden": false
      }
    },
    {
      "cell_type": "code",
      "source": [
        "def motortotal(vel,acel,rel):\n",
        "    torque=[]\n",
        "    omega=[]\n",
        "    largo=len(vel)\n",
        "    tamanio=(np.linspace(0,largo-1,largo)).astype(int)\n",
        "    for i in tamanio: \n",
        "     actual=motor(vel[i],acel[i],rel)\n",
        "     omega.append(actual[0])\n",
        "     torque.append(actual[1])\n",
        "    return(omega,torque)\n",
        "      "
      ],
      "outputs": [],
      "execution_count": 75,
      "metadata": {
        "collapsed": false,
        "outputHidden": false,
        "inputHidden": false
      }
    },
    {
      "cell_type": "code",
      "source": [
        "gasolina1=datos('Data','VBOX0019.VBO')\n",
        "electrico1=datos('data_electrico','VBS__047.VBO')\n",
        "\n",
        "timegas1=gasolina1[0]\n",
        "velogas1=velfil(gasolina1[3]/3.6,30)\n",
        "latgas1=gasolina1[1]\n",
        "longgas1=gasolina1[2]\n",
        "\n\n",
        "timeele1=electrico1[0]\n",
        "veloele1=velfil(electrico1[3]/3.6,10)\n",
        "latele1=electrico1[1]\n",
        "longele1=electrico1[2]\n",
        "\n"
      ],
      "outputs": [],
      "execution_count": 76,
      "metadata": {
        "collapsed": false,
        "outputHidden": false,
        "inputHidden": false
      }
    },
    {
      "cell_type": "code",
      "source": [
        "inicio1 = 3190\n",
        "puntos1 = 4800\n",
        "inicio2=340\n",
        "puntos2=1012\n",
        "\n",
        "dist1=recorrido(velogas1[inicio1:inicio1+puntos1],timegas1[inicio1:inicio1+puntos1])\n",
        "dist2=recorrido(veloele1[inicio2:inicio2+puntos2],timeele1[inicio2:inicio2+puntos2])\n",
        "vel1=velogas1[inicio1:inicio1+puntos1]\n",
        "vel2=veloele1[inicio2:inicio2+puntos2]\n",
        "acel1=acelfil(velogas1[inicio1:inicio1+puntos1], deltat1,30)\n",
        "acel2=acelfil(veloele1[inicio2:inicio2+puntos2], deltat2,10)\n",
        "tiemp1=timegas1[inicio1:inicio1+puntos1]-timegas1[inicio1]\n",
        "tiemp2=timeele1[inicio2:inicio2+puntos2]-timeele1[inicio2]\n",
        "torq1=motortotal(vel1,acel1,nccombustion)[1]\n",
        "torq2=motortotal(vel2,acel2,ncelectrico)[1]\n",
        "velang1=motortotal(vel1,acel1,nccombustion)[0]\n",
        "velang2=motortotal(vel2,acel2,ncelectrico)[0]\n",
        "pot1=(np.asarray(velang1)*np.asarray(torq1))/9.58\n",
        "pot2=np.asarray(velang2)*np.asarray(torq2)/9.58\n",
        "\n\n\n",
        "plt.plot(latgas1[inicio1:inicio1+puntos1],longgas1[inicio1:inicio1+puntos1])\n",
        "plt.plot(latele1[inicio2:inicio2+puntos2],longele1[inicio2:inicio2+puntos2])\n",
        "plt.title('Grafica 1. mapa de la pista en los dos recorridos')\n",
        "pylab.ylabel(\"latitud\")\n",
        "pylab.xlabel(\"Longitud\")\n",
        "plt.axis('off')\n",
        "plt.grid()\n",
        "pylab.savefig(os.path.join('graf1.png'), dpi=600)\n",
        "plt.close()\n",
        "\n",
        "plt.plot(dist1,tiemp1,label='Gasolina')\n",
        "plt.plot(dist2,tiemp2,label='Electrico')\n",
        "plt.title('Grafica 2. tiempo vs distancia recorrida')\n",
        "pylab.ylabel(\"Tiempo [s]\")\n",
        "pylab.xlabel(\"Posicion en la pista [m]\")\n",
        "plt.grid()\n",
        "pylab.savefig(os.path.join('graf2.png'), dpi=600)\n",
        "plt.close()\n",
        "\n\n",
        "plt.plot(dist1,vel1,label='Gasolina')\n",
        "plt.plot(dist2,vel2,label='Electrico')\n",
        "plt.title('Grafica 3. Velocidad vs distancia recorrida')\n",
        "pylab.ylabel(\"velocidad [m/s]\")\n",
        "pylab.xlabel(\"Distancia recorrida [m]\")\n",
        "plt.grid()\n",
        "pylab.legend(loc='upper left') \n",
        "pylab.savefig(os.path.join('graf3.png'), dpi=600)\n",
        "plt.close()\n",
        "\n",
        "plt.plot(dist1[60:-60],acel1[60:-60],label='Gasolina')\n",
        "plt.plot(dist2[20:-20],acel2[20:-20],label='Electrico')\n",
        "plt.title('Grafica 4. Aceleracion vs distancia recorrida')\n",
        "pylab.ylabel(\"Aceleracion [m/s]\")\n",
        "pylab.xlabel(\"Distancia recorrida [m]\")\n",
        "plt.grid()\n",
        "pylab.legend(loc='lower center') \n",
        "pylab.savefig(os.path.join('graf4.png'), dpi=600)\n",
        "plt.close()\n",
        "\n",
        "plt.plot(dist1[60:-60],torq1[60:-60],label='Gasolina')\n",
        "plt.plot(dist2[20:-20],torq2[20:-20],label='Electrico')\n",
        "plt.title('Grafica 5. Torque del motor vs Distancia recorrida')\n",
        "pylab.ylabel(\"Torque [N*m]\")\n",
        "pylab.xlabel(\"Distancia recorrida [m]\")\n",
        "plt.grid()\n",
        "pylab.legend(loc='lower left') \n",
        "pylab.savefig(os.path.join('graf5.png'), dpi=600)\n",
        "plt.close()\n",
        "\n",
        "plt.plot(dist1,velang1,label='Gasolina')\n",
        "plt.title('Grafica 6. Velocidad del motor vs distancia recorrida-gasolina')\n",
        "pylab.ylabel(\"Velocidad angular [RPM]\")\n",
        "pylab.xlabel(\"Posicion en la pista [m]\")\n",
        "plt.grid() \n",
        "pylab.savefig(os.path.join('graf6.png'), dpi=600)\n",
        "plt.close()\n",
        "\n",
        "plt.plot(dist2,velang2,label='Electrico')\n",
        "plt.title('Grafica 7. Velocidad del motor vs distancia recorrida-electrico')\n",
        "pylab.ylabel(\"Velocidad angular [RPM]\")\n",
        "pylab.xlabel(\"Posicion en la pista [m]\")\n",
        "plt.grid()\n",
        "pylab.savefig(os.path.join('graf7.png'), dpi=600)\n",
        "plt.close()\n",
        "\n",
        "plt.plot(dist1[60:-60],pot1[60:-60],label='Gasolina')\n",
        "plt.plot(dist2[20:-20],pot2[20:-20],label='Electrico')\n",
        "plt.title('Grafica 8. potencia del motor vs Distancia recorrida')\n",
        "pylab.ylabel(\"Potencia [w]\")\n",
        "pylab.xlabel(\"Distancia recorrida [m]\")\n",
        "plt.grid()\n",
        "pylab.legend(loc='lower left') \n",
        "pylab.savefig(os.path.join('graf8.png'), dpi=600)\n",
        "plt.close()"
      ],
      "outputs": [],
      "execution_count": 77,
      "metadata": {
        "collapsed": false,
        "outputHidden": false,
        "inputHidden": false
      }
    },
    {
      "cell_type": "markdown",
      "source": [
        "\n",
        "# Análisis del kart\n",
        "\n",
        "##Comparación del desempeño\n",
        "Con el fin de encontrar posibles mejoras al desempeño del kart eléctrico buscando que su comportamiento alcance o supere el del vehículo de motor de combustión se desea observar para un mismo recorrido los distintos parámetros de desempeño de cada uno. Para realizar esto se seleccionaron datos de pruebas de cada uno de los vehículos partiendo de una velocidad y posición cercana en un tramo igual de la pista de carreras de Tocancipá.\n",
        "No se utilizaron los datos de toda la vuelta puesto que el circuito recorrido por cada vehículo vario significativamente en el tramo final. A pesar de esto los tramos tomados son iguales y por tanto permiten analizar el comportamiento del vehículo. El tramo del circuito seleccionado para el análisis se presenta en la gráfica 1.\n",
        "\n",
        "<img src=\"graf1.png\">\n",
        "\n",
        "De este tramo en el circuito de pruebas es posible determinar los siguientes datos\n",
        "\n",
        "<img src=\"graf2.png\">\n",
        "\n",
        "<img src=\"graf3.png\">\n",
        "\n",
        "<img src=\"graf4.png\">\n",
        "\n",
        "En la gráfica 2 es posible apreciar que el vehículo a gasolina toma 48 segundos en recorrer el circuito analizado mientras que el vehículo eléctrico realiza el recorrido en 50.5 segundos. Esta diferencia entre los tiempos recorridos por cada vehículo no se debe a la velocidad inicial puesto que como se puede ver en la gráfica 3 los dos vehículos parten a una velocidad prácticamente igual.\n",
        "\n",
        "La grafica 2 nos permite apreciar que la curva de velocidad instantánea del vehículo eléctrico tiene en general valores más bajos que la curva del vehículo a gasolina lo que podría ser una de las causas de la diferencia de tiempos entre uno y otro. Esta diferencia de velocidades se ve reflejada en la gráfica 3 donde la aceleración instantánea del vehículo eléctrico es menor a la del vehículo a gasolina.\n",
        "\n",
        "Algunos factores externos al vehículo también pueden estar influyendo en los tiempos de la prueba puesto que como se observa en el primer pico de velocidad de la gráfica 2 el piloto del vehículo eléctrico empezó a frenar a una distancia menor que el del vehículo a gasolina lo que implicó una distancia de frenado más larga que pudo afectar el desempeño.\n",
        "\n",
        "Para analizar aquellos factores propios del vehículo se utilizaron los modelos físicos antes desarrollados para determinar el comportamiento del motor de cada vehículo.\n",
        "\n",
        "##Desempeño de los motores\n",
        "\n",
        "A continuación, se presentan las gráficas de desempeño de los motores obtenidas para los dos vehículos.\n",
        "\n",
        "<img src=\"graf5.png\">\n",
        "\n",
        "<img src=\"graf6.png\">\n",
        "\n",
        "<img src=\"graf7.png\">\n",
        "\n",
        "<img src=\"graf8.png\">\n",
        "\n",
        "La grafica 5 presentan la diferencia de torque generado por el motor para los dos vehículos en donde es posible apreciar que el torque máximo generado por el motor eléctrico es mayor al generado por el motor de combustión interna. lo anterior puede ser explicado por la diferencia de velocidades de trabajo de cada motor como puede ser observado en las gráficas 6 y 7.\n",
        "El motor de combustión interna alcanza velocidades angulares del orden de 10.000 RPM mientras que el motor eléctrico opera alrededor de 3000 RPM.\n",
        "\n",
        "Un punto importante que notar es que la velocidad máxima de rotación del motor eléctrico es de 5000 RPM lo que significa que el motor no está trabajando a máxima potencia, unicamente se acerca a 4200 rpm en un tramo recto del circuito. Las causas de esto pueden ser que el vehículo eléctrico no logra transmitir suficiente torque a las ruedas para vencer las fuerzas de arrastre y rodadura del vehículo a velocidades más altas, o que la aceleración es baja y por ende el conductor debe frenar antes de poder alcanzar una velocidad superior.\n",
        "La segunda causa parece menos probable puesto que como se observa en la gráfica 4 las desaceleraciones del vehículo a gasolina son más altas que las del vehiculó con el motor eléctrico. Teniendo en cuenta que los dos cuentan con el mismo sistema de frenos estos deberían permitir frenar el vehículo eléctrico así este alcanzara velocidades cercanas a las del vehículo a gasolina.\n",
        "\n",
        "##Opciones de mejora\n",
        "\n",
        "Cualquiera de las dos causas apreciadas para que el motor eléctrico no se encuentre trabajando a máxima potencia durante el recorrido tienen la misma solución, aumentar el torque transmitido a las ruedas.\n",
        "Un mayor torque transmitido a las ruedas permitirá alcanzar velocidades mayores pues por el equilibrio de fuerzas sobre el vehículo las fuerzas de arrastre y de rodadura requerían velocidades mayores para igualar a la fuerza transmitida a las ruedas. También un mayor torque implica una aceleración mayor lo que permitiría al vehículo llegar a velocidades más altas antes de tener que frenar. \n",
        "\n",
        "Una posible mejora que podría implementarse con el fin de transmitir mayor potencia a las ruedas es aumentar la relación de transmisión del vehículo para que así el motor eléctrico aumente su velocidad de rotación acercándose a su punto de operación de máxima potencia logrando aumentar las velocidades durante el recorrido.\n",
        "\n",
        "Tambien se puede apreciar en la grafica 8 que la potencia pico del motor electrico es menor a la desarrollada por el motor de combustion interna, esto puede ser causado por la falta de una relacion adecuada para la pista. sin embargo si la correccion de la relacion de transmision no es suficiente se implica que el motor electrico debe ser reemplazado por uno de mayor potencia si se desea que su comportamiento se aproxime al del motor de combustion.\n",
        "\n\n",
        "Christian Bohorquez-201424942\n"
      ],
      "metadata": {}
    }
  ],
  "metadata": {
    "kernelspec": {
      "name": "python3",
      "language": "python",
      "display_name": "Python 3"
    },
    "kernel_info": {
      "name": "python3"
    },
    "language_info": {
      "name": "python",
      "version": "3.6.3",
      "mimetype": "text/x-python",
      "codemirror_mode": {
        "name": "ipython",
        "version": 3
      },
      "pygments_lexer": "ipython3",
      "nbconvert_exporter": "python",
      "file_extension": ".py"
    },
    "nteract": {
      "version": "0.8.3"
    }
  },
  "nbformat": 4,
  "nbformat_minor": 4
}